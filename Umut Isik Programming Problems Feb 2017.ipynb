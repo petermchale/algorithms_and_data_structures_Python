{
 "cells": [
  {
   "cell_type": "code",
   "execution_count": 1,
   "metadata": {},
   "outputs": [
    {
     "name": "stdout",
     "output_type": "stream",
     "text": [
      "[[1 2 3]\n",
      " [4 5 6]\n",
      " [7 8 9]]\n",
      "[[7 4 1]\n",
      " [8 5 2]\n",
      " [9 6 3]]\n"
     ]
    }
   ],
   "source": [
    "## rotate matrix\n",
    "\n",
    "import numpy as np\n",
    "import math\n",
    "\n",
    "def swap(XX, i1, j1, i2, j2):\n",
    "\tdum = XX[i1,j1]\n",
    "\tXX[i1,j1] = XX[i2,j2]\n",
    "\tXX[i2,j2] = dum\n",
    "\n",
    "def rotate(XX):\n",
    "\tN = XX.shape[0]\n",
    "\tfor index in range(math.floor(N/2)):\n",
    "\t\tfor innerin in range(N-index-1):\n",
    "\t\t\tswap(XX, index, index + innerin, \n",
    "                     index + innerin, N - index - 1)\n",
    "\t\t\tswap(XX, index, index + innerin, \n",
    "                     N - index - 1, N - index - 1 - innerin)\n",
    "\t\t\tswap(XX, index, index + innerin, \n",
    "                     N - index - 1 - innerin, index)\n",
    "\n",
    "XX = np.array([[1,2,3],[4,5,6],[7,8,9]])\n",
    "print(XX)\n",
    "rotate(XX)\n",
    "print(XX)"
   ]
  },
  {
   "cell_type": "code",
   "execution_count": 2,
   "metadata": {},
   "outputs": [
    {
     "name": "stdout",
     "output_type": "stream",
     "text": [
      "(1.0, 1.0)\n",
      "(1, 1)\n",
      "None\n"
     ]
    }
   ],
   "source": [
    "def intersect(x1, y1, x2, y2, x3, y3, x4, y4, epsilon=0.000001):\n",
    "    a = y2 - y1\n",
    "    b = -y4 + y3\n",
    "    c = x2 - x1\n",
    "    d = -x4 + x3\n",
    "\n",
    "    det = a*d - b*c\n",
    "    if det < epsilon:\n",
    "        if abs(y3 - y1) + abs(x3 - x1) < epsilon:\n",
    "            return (x1, y1)\n",
    "        if abs(a * (x3 - x1) - c * (y3 - y1)) > epsilon:\n",
    "            return None\n",
    "        if abs(x2 - x1) > epsilon:\n",
    "            if 0 <= (x3 - x1) / (x2 - x1) <= 1:\n",
    "                return (x3, y3)\n",
    "            if 0 <= (x4 - x1) / (x2 - x1) <= 1:\n",
    "                return (x4, y4)\n",
    "        else:\n",
    "            if abs(y2 - y1) > epsilon:\n",
    "                if 0 <= (y3 - y1) / (y2 - y1) <= 1:\n",
    "                    return (x3, y3)\n",
    "                if 0 <= (y4 - y1) / (y2 - y1) <= 1:\n",
    "                    return (x4, y4)\n",
    "    else:\n",
    "        t1 = (d * (y3 - y1) - b * (x3 - x1))/det\n",
    "        t2 = (-c * (y3 - y1) + a * (x3 - x1))/det\n",
    "        if 0 <= t1 <= 1 and 0 <= t2 <= t1:\n",
    "            return (x1 + t1 * (x2 - x1), y1 + t1 * (y2 - y1))\n",
    "        return None\n",
    "    \n",
    "print(intersect(0,0,2,2,2,0,0,2))\n",
    "print(intersect(0,0,2,2,1,1,4,4))\n",
    "print(intersect(0,0,2,2,3,3,4,4))\n"
   ]
  },
  {
   "cell_type": "code",
   "execution_count": 3,
   "metadata": {},
   "outputs": [
    {
     "data": {
      "text/plain": [
       "[0, 1, 2, 3, 2, 3, 3, 4]"
      ]
     },
     "execution_count": 3,
     "metadata": {},
     "output_type": "execute_result"
    }
   ],
   "source": [
    "from collections import deque\n",
    "# BFS\n",
    "\n",
    "def BFS_dists(adj):\n",
    "    N = len(adj)\n",
    "    \n",
    "    # 0 never seen, 1 seen, 2 visited\n",
    "    color = [0 for i in range(N)]\n",
    "    predecessor = [-1 for i in range(N)]\n",
    "    distances = [-1 for i in range(N)]\n",
    "    q = deque([])\n",
    "\n",
    "    q.append(0)\n",
    "    distances[0] = 0\n",
    "    while len(q) > 0:\n",
    "        s = q.popleft()\n",
    "        color[s] = 2\n",
    "        for i in range(N):\n",
    "            if adj[s][i] != 0 and color[i] == 0:\n",
    "                predecessor[i] = s\n",
    "                distances[i] = distances[s] + 1\n",
    "                q.append(i)\n",
    "                color[i] = 1 \n",
    "    return distances\n",
    "\n",
    "adj = [[0,1,0,0,0,0,0,0],\n",
    "       [1,0,1,0,1,0,0,0],\n",
    "       [0,1,0,0,1,0,0,0],\n",
    "       [0,0,0,0,1,0,0,0],\n",
    "       [0,1,1,1,0,1,1,0],\n",
    "       [0,0,0,0,1,0,1,1],\n",
    "       [0,0,0,0,1,1,0,0],\n",
    "       [0,0,0,0,0,1,0,0]]          \n",
    "\n",
    "BFS_dists(adj)"
   ]
  },
  {
   "cell_type": "code",
   "execution_count": 4,
   "metadata": {},
   "outputs": [
    {
     "data": {
      "text/plain": [
       "[0, 1, 2, 3, 2, 3, 3, 4]"
      ]
     },
     "execution_count": 4,
     "metadata": {},
     "output_type": "execute_result"
    }
   ],
   "source": [
    "from collections import deque\n",
    "\n",
    "def BFS(adj, source_vertex=0):\n",
    "    N = len(adj)\n",
    "    color = [0 for i in range(N)]\n",
    "    distances = [-1 for i in range(N)]\n",
    "\n",
    "    q = deque([])\n",
    "    q.append(source_vertex)\n",
    "    color[source_vertex] = 1\n",
    "    distances[source_vertex] = 0\n",
    "\n",
    "    while len(q) != 0:\n",
    "        s = q.popleft()\n",
    "        color[s] = 2\n",
    "        for i in range(N):\n",
    "            if adj[s][i] != 0 and color[i] == 0:\n",
    "                color[i] = 1\n",
    "                q.append(i)\n",
    "                distances[i] = distances[s] + 1\n",
    "\n",
    "    return distances\n",
    "\n",
    "adj = [[0,1,0,0,0,0,0,0],\n",
    "       [1,0,1,0,1,0,0,0],\n",
    "       [0,1,0,0,1,0,0,0],\n",
    "       [0,0,0,0,1,0,0,0],\n",
    "       [0,1,1,1,0,1,1,0],\n",
    "       [0,0,0,0,1,0,1,1],\n",
    "       [0,0,0,0,1,1,0,0],\n",
    "       [0,0,0,0,0,1,0,0]]          \n",
    "\n",
    "BFS_dists(adj)"
   ]
  },
  {
   "cell_type": "code",
   "execution_count": 5,
   "metadata": {},
   "outputs": [
    {
     "data": {
      "text/plain": [
       "[-1, 0, 1, 4, 2, 4, 5, 5]"
      ]
     },
     "execution_count": 5,
     "metadata": {},
     "output_type": "execute_result"
    }
   ],
   "source": [
    "def DFS(adj):\n",
    "    N = len(adj)\n",
    "    visited = [False for i in range(N)]\n",
    "    predec = [-1 for i in range(N)]\n",
    "\n",
    "    def DFS_visit(s):\n",
    "        visited[s] = True\n",
    "        for i in range(N):\n",
    "            if adj[s][i] != 0 and not visited[i]:\n",
    "                predec[i] = s\n",
    "                DFS_visit(i)\n",
    "\n",
    "    for i in range(N):\n",
    "        if not visited[i]:\n",
    "            DFS_visit(i)\n",
    "\n",
    "    return predec\n",
    "\n",
    "adj = [[0,1,0,0,0,0,0,0],\n",
    "       [1,0,1,0,1,0,0,0],\n",
    "       [0,1,0,0,1,0,0,0],\n",
    "       [0,0,0,0,1,0,0,0],\n",
    "       [0,1,1,1,0,1,1,0],\n",
    "       [0,0,0,0,1,0,1,1],\n",
    "       [0,0,0,0,1,1,0,0],\n",
    "       [0,0,0,0,0,1,0,0]]          \n",
    "\n",
    "DFS(adj)"
   ]
  },
  {
   "cell_type": "code",
   "execution_count": 6,
   "metadata": {},
   "outputs": [
    {
     "name": "stdout",
     "output_type": "stream",
     "text": [
      "7 6 5 4 3 2 1 \n",
      "7\n"
     ]
    }
   ],
   "source": [
    "class Node():\n",
    "    def __init__(self, key, pred, succ):\n",
    "        self.key = key\n",
    "        self.pred = pred\n",
    "        self.succ = succ\n",
    "\n",
    "class LinkedList():\n",
    "    def __init__(self):\n",
    "        self.root = None\n",
    "\n",
    "    def append_left(self, key):\n",
    "        node = Node(key, None, self.root)\n",
    "        if self.root:\n",
    "            self.root.pred = node\n",
    "        self.root = node\n",
    "        \n",
    "    def __repr__(self):\n",
    "        s = \"\"\n",
    "        cur = self.root\n",
    "        while cur:\n",
    "            s += str(cur.key) + \" \"\n",
    "            cur = cur.succ\n",
    "        return s\n",
    "\n",
    "    def delete_node(self, node):\n",
    "            if not node.pred:\n",
    "                self.root = node.succ\n",
    "            else:\n",
    "                node.pred.succ = node.succ\n",
    "                node.succ.pred = node.pred\n",
    "\n",
    "                \n",
    "\n",
    "def remove_duplicates(li):\n",
    "    dict = {}\n",
    "    cur = li.root\n",
    "    while cur:\n",
    "        if cur.key in dict:\n",
    "            li.delete_node(cur)\n",
    "        else:\n",
    "            dict[cur.key] = 1\n",
    "        cur = cur.succ\t\n",
    "\n",
    "def remove_duplicates_nospace(li):\n",
    "    cur = li.root\n",
    "    while cur:\n",
    "        compa = cur.succ\n",
    "        while compa:\n",
    "            if cur.key == compa.key:\n",
    "                li.delete_node(compa)\n",
    "            compa = compa.succ\n",
    "        cur = cur.succ\n",
    "\n",
    "        \n",
    "def kth_to_last(li, k):\n",
    "    pt_front = li.root\n",
    "    pt_behind = li.root\n",
    "\n",
    "    for i in range(k+1):\n",
    "        if not pt_front:\n",
    "            return None\n",
    "        pt_front = pt_front.succ\n",
    "        \n",
    "    while pt_front:\n",
    "        pt_front = pt_front.succ\n",
    "        pt_behind = pt_behind.succ\n",
    "\n",
    "    return pt_behind.key\n",
    "        \n",
    "        \n",
    "        \n",
    "xs = LinkedList()\n",
    "xs.append_left(1)\n",
    "xs.append_left(2)\n",
    "xs.append_left(3)\n",
    "xs.append_left(4)\n",
    "xs.append_left(5)\n",
    "xs.append_left(6)\n",
    "xs.append_left(7)\n",
    "print(xs)\n",
    "print(kth_to_last(xs, 6))\n"
   ]
  },
  {
   "cell_type": "code",
   "execution_count": 7,
   "metadata": {
    "collapsed": true
   },
   "outputs": [],
   "source": [
    "def partition(li, pa):\n",
    "    cur = li.root\n",
    "    li_small_or_eq = LinkedList()\n",
    "    li_larger = LinkedList()\n",
    "    while cur:\n",
    "        if cur.key > pa:\n",
    "            li_larger.append(curr.key)\n",
    "        else:\n",
    "            li_smaller_or_eq.append(curr.key)\n",
    "        d = cur\n",
    "        cur = cur.succ\n",
    "        del d\n",
    "    li_small_or_eq.extend(li_larger)\n",
    "    return li_small_or_eq\n"
   ]
  },
  {
   "cell_type": "code",
   "execution_count": 8,
   "metadata": {},
   "outputs": [
    {
     "name": "stdout",
     "output_type": "stream",
     "text": [
      "1 2 3 4 5 6 7 \n"
     ]
    }
   ],
   "source": [
    "def reverse_copy(li):\n",
    "    last_added = None\n",
    "    cur = li.root\n",
    "    while cur:\n",
    "        node = Node(cur.key, None, last_added)\n",
    "        last_added = node\n",
    "        cur = cur.succ\t\n",
    "    rev_li = LinkedList()\n",
    "    rev_li.root = last_added\n",
    "    return rev_li\n",
    "\n",
    "xs = LinkedList()\n",
    "xs.append_left(1)\n",
    "xs.append_left(2)\n",
    "xs.append_left(3)\n",
    "xs.append_left(4)\n",
    "xs.append_left(5)\n",
    "xs.append_left(6)\n",
    "xs.append_left(7)\n",
    "print(reverse_copy(xs))\n"
   ]
  },
  {
   "cell_type": "code",
   "execution_count": 9,
   "metadata": {},
   "outputs": [
    {
     "data": {
      "text/plain": [
       "6"
      ]
     },
     "execution_count": 9,
     "metadata": {},
     "output_type": "execute_result"
    }
   ],
   "source": [
    "def factors_of_five(n):\n",
    "    if n < 1:\n",
    "        return 0\n",
    "    count = 0\n",
    "    while n % 5 == 0:\n",
    "        count += 1\n",
    "        n = n // 5\n",
    "    return count\n",
    "\n",
    "def zeros_in_factorial(n):\n",
    "    count = 0\n",
    "    for i in range(1,n+1):\n",
    "        count += factors_of_five(i)\n",
    "    return count\n",
    "\n",
    "zeros_in_factorial(25)"
   ]
  },
  {
   "cell_type": "code",
   "execution_count": 10,
   "metadata": {},
   "outputs": [
    {
     "data": {
      "text/plain": [
       "(3, 2)"
      ]
     },
     "execution_count": 10,
     "metadata": {},
     "output_type": "execute_result"
    }
   ],
   "source": [
    "def min_dis(xs,ys):\n",
    "    xs.sort()\n",
    "    ys.sort()\n",
    "\n",
    "    nx = len(xs)\n",
    "    ny = len(ys)\n",
    "    ix = 0\n",
    "    iy = 0\n",
    "    min_x = xs[ix]\n",
    "    min_y = ys[iy]\n",
    "    mindis = abs(min_x - min_y)\n",
    "    while ix < nx and iy < ny:\n",
    "        if abs(xs[ix] - ys[iy]) < mindis:\n",
    "            mindis = abs(xs[ix] - ys[iy])\n",
    "            min_x = xs[ix]\n",
    "            min_y = ys[iy]\n",
    "        if xs[ix] < ys[iy]:\n",
    "            ix += 1\n",
    "        else:\n",
    "            iy += 1\n",
    "    \n",
    "    return min_x, min_y\n",
    "\n",
    "xs = [0,3,5,9]\n",
    "ys = [2,7,11]\n",
    "min_dis(xs,ys)"
   ]
  },
  {
   "cell_type": "code",
   "execution_count": 11,
   "metadata": {},
   "outputs": [
    {
     "data": {
      "text/plain": [
       "4"
      ]
     },
     "execution_count": 11,
     "metadata": {},
     "output_type": "execute_result"
    }
   ],
   "source": [
    "class Person():\n",
    "    def __init__(self, by, dy):\n",
    "        self.birth_year = by\n",
    "        self.death_year = dy\n",
    "\n",
    "def make_deltas(persons, min_year, max_year):\n",
    "    deltas = [0 for i in range(max_year - min_year + 2)]\n",
    "    for pers in persons:\n",
    "        deltas[pers.birth_year - min_year] += 1\n",
    "        deltas[pers.death_year - min_year + 1] -= 1\n",
    "    return deltas\n",
    "\n",
    "def most_populated_year(persons):\n",
    "    years = [pers.birth_year for pers in persons] + [pers.death_year for pers in persons]\n",
    "    min_year = min(years)\n",
    "    max_year = max(years)\n",
    "    \n",
    "    deltas = make_deltas(persons, min_year, max_year)\n",
    "    max_people = 0\n",
    "    max_pop_year = 0\n",
    "    total = 0\n",
    "    for i, delta in enumerate(deltas):\n",
    "        total += delta\n",
    "        if total > max_people:\n",
    "            max_pop_year = i +  min_year\n",
    "            max_people = total\n",
    "    return max_pop_year\n",
    "\n",
    "persons = [Person(1,4), Person(2,5), Person(4,8)]\n",
    "most_populated_year(persons)"
   ]
  },
  {
   "cell_type": "code",
   "execution_count": 12,
   "metadata": {},
   "outputs": [
    {
     "data": {
      "text/plain": [
       "((False, 1.0, 0.0),\n",
       " 9,\n",
       " {(False, -1.0, 2.0): 0,\n",
       "  (False, 0.0, 0.0): 2,\n",
       "  (False, 1.0, 0.0): 9,\n",
       "  (False, 1.3333329999999999, -1.333334): 0,\n",
       "  (False, 1.5, -1.5): 0,\n",
       "  (False, 2.0, -4.0): 0,\n",
       "  (False, 2.0, -2.0): 0,\n",
       "  (False, 3.0, -6.0): 0,\n",
       "  (True, 1.0, 1.0): 0,\n",
       "  (True, 2.0, 2.0): 0})"
      ]
     },
     "execution_count": 12,
     "metadata": {},
     "output_type": "execute_result"
    }
   ],
   "source": [
    "from math import floor\n",
    "\n",
    "class Point():\n",
    "    \n",
    "    def __init__(self, x, y):\n",
    "        self.x = x\n",
    "        self.y = y\n",
    "\n",
    "epsilon = 0.000001\n",
    "\n",
    "def truncate(isVer, m, b):\n",
    "    return (isVer, epsilon * (floor(m / epsilon)), epsilon * floor(b / epsilon))\n",
    "\n",
    "def increment_line_in_dict(lines, x1, y1, x2, y2):\n",
    "\n",
    "    if abs(x1 - x2) < epsilon:\n",
    "        hash_val = truncate(True, x1, x2)\n",
    "    else:\n",
    "        m = (y2 - y1) / (x2 - x1)\n",
    "        b = (y2 * x1 - x2 * y1) / (x1 - x2)\n",
    "        hash_val = truncate(False, m, b)\n",
    "            \n",
    "    if hash_val in lines:\n",
    "        lines[hash_val] += 1\n",
    "    else:\n",
    "        lines[hash_val] = 0\n",
    "    \n",
    "def best_line(points):\n",
    "    N = len(points)\n",
    "    lines = {}\n",
    "\n",
    "    for i in range(N):\n",
    "        for j in range(i+1,N):\n",
    "            increment_line_in_dict(lines, points[i].x,\n",
    "                                       points[i].y, points[j].x,\n",
    "                                       points[j].y)\t\t\n",
    "\n",
    "    max_seen = 0\n",
    "    for line in lines:\n",
    "        if lines[line] > max_seen:\n",
    "            max_line = line\n",
    "            max_seen = lines[line]\n",
    "\n",
    "    return max_line, max_seen, lines\n",
    "\n",
    "points = [Point(0,0), Point(1,0), Point(2,0), Point(1,1), Point(2,2), Point(3,3), Point(4,4)]\n",
    "best_line(points)\n"
   ]
  },
  {
   "cell_type": "code",
   "execution_count": 13,
   "metadata": {},
   "outputs": [
    {
     "data": {
      "text/plain": [
       "(2, 7)"
      ]
     },
     "execution_count": 13,
     "metadata": {},
     "output_type": "execute_result"
    }
   ],
   "source": [
    "def smallest_subseq_to_sort(xs):\n",
    "    left_marker = 0\n",
    "    last_seen = xs[0]\n",
    "    while xs[left_marker] >= last_seen:\n",
    "        last_seen = xs[left_marker]\n",
    "        left_marker += 1\n",
    "    left_marker -= 1\n",
    "\n",
    "    right_marker = len(xs)-1\n",
    "    last_seen = xs[right_marker]\n",
    "    while xs[right_marker] <= last_seen:\n",
    "        last_seen = xs[right_marker]\n",
    "        right_marker -= 1\n",
    "    right_marker += 1\n",
    "\n",
    "    # fix left marker\n",
    "    min_of_rest = min(xs[left_marker+1:])\n",
    "    while xs[left_marker] > min_of_rest:\n",
    "        left_marker -= 1\n",
    "\n",
    "    # fix right marker\n",
    "    max_of_rest = max(xs[:right_marker])\n",
    "    while xs[right_marker] < max_of_rest:\n",
    "        right_marker += 1\n",
    "\n",
    "    return left_marker+1, right_marker-1\n",
    "\n",
    "xs = [1,2,10,4,6,8,7,9,11,12]\n",
    "smallest_subseq_to_sort(xs)"
   ]
  },
  {
   "cell_type": "code",
   "execution_count": 14,
   "metadata": {
    "collapsed": true
   },
   "outputs": [],
   "source": [
    "def f(x,y):\n",
    "    return x+y\n",
    "\n",
    "def f(x):\n",
    "    return x"
   ]
  },
  {
   "cell_type": "code",
   "execution_count": 15,
   "metadata": {},
   "outputs": [
    {
     "data": {
      "text/plain": [
       "(['c', 'a', 't'], ['g', 'o'])"
      ]
     },
     "execution_count": 15,
     "metadata": {},
     "output_type": "execute_result"
    }
   ],
   "source": [
    "def pattern_match_specific(orig, pattern, a, b):\n",
    "    sa = len(a)\n",
    "    sb = len(b)\n",
    "\n",
    "    compa = []\n",
    "    for c in pattern:\n",
    "        if c == \"a\":\n",
    "            compa += a\n",
    "        if c == \"b\":\n",
    "            compa += b\n",
    "\n",
    "    if compa == orig:\n",
    "        return True\n",
    "    return False\n",
    "\n",
    "def find_first_c(xs, c):\n",
    "    i = 0\n",
    "    while xs[i] != c:\n",
    "        i += 1\n",
    "    return i\n",
    "\n",
    "def pattern_match(orig, pattern):\n",
    "    N = len(orig)\n",
    "    a_count = len([x for x in pattern if x == 'a'])\n",
    "    b_count = len([x for x in pattern if x == 'b'])\n",
    "    \n",
    "    if b_count == 0:\n",
    "        b = \"\"\n",
    "        for sa in range(1,N // a_count + 1):\n",
    "            a = orig[:sa]\n",
    "            if pattern_match_specific(orig, pattern, a, b):\n",
    "                return True\n",
    "    else:\n",
    "        for sa in range(1,N // a_count):\n",
    "            a = orig[:sa]\n",
    "            if (N - sa*a_count) % b_count != 0:\n",
    "                continue\n",
    "            sb = (N - sa*a_count) // b_count\n",
    "            first_b_index = find_first_c(pattern, 'b')\n",
    "            b = orig[first_b_index * sa: first_b_index * sa + sb]\n",
    "            if pattern_match_specific(orig, pattern, a, b):\n",
    "                return (a,b)\n",
    "\n",
    "    return False\n",
    "\n",
    "orig = list(\"catcatcatgocatgo\")\n",
    "pattern = list(\"aaabab\")\n",
    "pattern_match(orig, pattern)"
   ]
  },
  {
   "cell_type": "code",
   "execution_count": 16,
   "metadata": {},
   "outputs": [
    {
     "name": "stdout",
     "output_type": "stream",
     "text": [
      "[1, 5]\n"
     ]
    }
   ],
   "source": [
    "levels = [[1,2,0,1],\n",
    "          [0,1,1,1],\n",
    "          [0,0,1,0],\n",
    "          [1,1,0,2]]\n",
    "\n",
    "def DFS_visit(x,y):\n",
    "    if x < 0 or x >= H or y < 0 or y >= W:\n",
    "        return 0\n",
    "    if visited[x][y] != 0:\n",
    "        return 0\n",
    "    if levels[x][y] > 0:\n",
    "        return 0\n",
    "\n",
    "    visited[x][y] = 1\n",
    "\n",
    "    total = 1\n",
    "    total += DFS_visit(x - 1, y)\n",
    "    total += DFS_visit(x - 1, y - 1)\n",
    "    total += DFS_visit(x - 1, y + 1)\n",
    "    total += DFS_visit(x, y - 1)\n",
    "    total += DFS_visit(x, y + 1)\n",
    "    total += DFS_visit(x + 1, y - 1)\n",
    "    total += DFS_visit(x + 1, y)\n",
    "    total += DFS_visit(x + 1, y + 1)\n",
    "    return total\n",
    "\n",
    "H = len(levels)\n",
    "W = len(levels[0])\n",
    "visited = [[0 for i in range(len(levels))] for j in range(len(levels[0]))]\n",
    "\n",
    "pond_sizes = []\n",
    "for x in range(H):\n",
    "    for y in range(W):\n",
    "        if visited[x][y] == 0 and levels[x][y] == 0:\n",
    "            pond_sizes.append(DFS_visit(x,y))\n",
    "\n",
    "print(pond_sizes)"
   ]
  },
  {
   "cell_type": "code",
   "execution_count": 17,
   "metadata": {},
   "outputs": [
    {
     "data": {
      "text/plain": [
       "(9, 1)"
      ]
     },
     "execution_count": 17,
     "metadata": {},
     "output_type": "execute_result"
    }
   ],
   "source": [
    "def make_hash_table(ys):\n",
    "    dicti = {}\n",
    "    for y in ys:\n",
    "        dicti[y] = True\n",
    "    return dicti\n",
    "\n",
    "def list_switch(xs, ys):\n",
    "    sum_xs = sum(xs)\n",
    "    sum_ys = sum(ys)\n",
    "\n",
    "    ys_table = make_hash_table(ys)\n",
    "\n",
    "    for x in xs:\n",
    "        diff_post_mov_x = (sum_ys + x) - (sum_xs - x)\n",
    "        if diff_post_mov_x % 2 == 0:\n",
    "            if (diff_post_mov_x // 2) in ys_table:\n",
    "                return (x, diff_post_mov_x // 2)\n",
    "    return \"not found\"\n",
    "\n",
    "xs = [1,2,3,9,10]\n",
    "ys = [1,1,1,6]\n",
    "sum(xs)\n",
    "list_switch(xs, ys)\n"
   ]
  },
  {
   "cell_type": "code",
   "execution_count": 18,
   "metadata": {},
   "outputs": [
    {
     "name": "stdout",
     "output_type": "stream",
     "text": [
      "___BB________________________________________\n",
      "__BB_________________________________________\n",
      "_B_BB_BBB____________BB__BB__________________\n",
      "_B__B_BBBB________BBB__BB__B_________________\n",
      "__B_B__BB_BB______B___BB____B________________\n",
      "___BB_BBB_BBBBBBB_____B_____B_BB_____________\n",
      "___B__B_BBBBB__B___B_BB___B__B__B____________\n",
      "__BB______B_BBB_BB__BBBB___B___BBB___________\n",
      "____BBBBBB_BBBB__BB_B___B__BB__B_B_BB________\n",
      "B_BBBBB_B_B___BB__BB_____B____B___B__B_______\n",
      "BBB____B_BB_B_BBBBB___B____B__B__BB_BBB______\n",
      "_B__B__BBBB_BB___BBB_BB___BBB_BB_____BB______\n",
      "__BB____B__B_____BBB_B_B___B_BBB__BBB________\n",
      "_______BBBB___BBBBB_BBBBBBBBB___B_B__________\n",
      "__________B__BB___B______B__B_BB__BBB_BBB____\n",
      "________B_B_B____BBBBB___BB__BBBBB_BBBBB_____\n",
      "________BBB_B_BBBBB_BBBBBB_BBB_BBBBBBB_B_BB__\n",
      "_________B_B___B__B__B__B__BBB___BB__BB____B_\n",
      "___________B_BB_B__B____BB_BB_B__BBB______BBB\n",
      "____________BB_B____B__BBBBB_B____B____B__B_B\n",
      "____________B_B__B____BB_BB__B_B__BBB_BB_____\n",
      "________B_BB_BBB__B_B_BB_B_B_____B_B_____B_B_\n",
      "________BBBB_BB___BB_BBBB__B_B__B__B__BBB___B\n",
      "_________BB_B_BBBB_____B___B__B_BB_BBB_BB___B\n",
      "_________BB___BB_BBB_BBBB__B______BBB___BB__B\n",
      "_________B____B__BB___BBB__BBB_____BBB______B\n",
      "______________BB_BB__BBBB____BBBB_B_B_B_____B\n",
      "________B_B___BBB_BBBB_BB_B___BB_BBB_BB_____B\n",
      "________BBB_______BBB_B_B_BBBBB____B_B______B\n",
      "_________B____B_B___BBB_BB_BBB____B_BBBB____B\n",
      "__________BBBB__BB_BB__BBBB_BB_BB_BB__B_____B\n",
      "__________________BBBBBBB____B__BB_BB_B_____B\n",
      "_______________B___B_BB_B_BBB_B__BB__BB___BBB\n",
      "____________B____BBBB___B__B_BBBBBB_BB____BBB\n",
      "___________B_BBBB_BB_B_BBBB____BB__BB_B_BB_B_\n",
      "___________B____B_B_BB_B__BBBBBB_BBBBBBB___B_\n",
      "____________B__B__BBBBBB_BB___B__B_BB___B___B\n",
      "_____________BB__B_BBBBBBB_B___B__BBB____BB_B\n",
      "_______________BBB__BB__B_BB_B_B_B___BB_B_BB_\n",
      "_______________B___BBBBB__________BB_BBBBBB__\n",
      "________________B_B______B_BBBBB__B___B______\n",
      "________________B____B___BB_B_B_____BB_______\n",
      "_______________BBB____B_BB_____B_BB__B_BB____\n",
      "_______________BBB____B___B_BBB____B_BB_B____\n",
      "________________B____B____BBBB_BBBBB___B_____\n",
      "_________________BBBB______B_BBBB_B__BBB_____\n",
      "____________________________BB__B_BB___B_____\n",
      "_______________________________BB__BB________\n",
      "__________________________________BB_________\n"
     ]
    }
   ],
   "source": [
    "# method:\n",
    "# keep black squares in hash table\n",
    "# for each step, look at square, if white, turn right and move forward\n",
    "# if black, turn left and move forward\n",
    "\n",
    "\n",
    "class Ant():\n",
    "    def __init__(self):\n",
    "        self.x = 0\n",
    "        self.y = 0\n",
    "        self.direction = 0  # 0: right, 1: up, 2: left, 3: down\n",
    "\n",
    "    def move_forward(self):\n",
    "        if self.direction == 0:\n",
    "            self.x += 1\n",
    "        elif self.direction == 1:\n",
    "            self.y += 1\n",
    "        elif self.direction == 2:\n",
    "            self.x -= 1\n",
    "        elif self.direction == 3:\n",
    "            self.y -= 1\n",
    "        else: \n",
    "            print(\"Non-interpretable direction of ant.\")\n",
    "\n",
    "    def update(self, sqr_color):\n",
    "        if sqr_color == \"black\":\n",
    "            self.direction = (self.direction - 1) % 4\n",
    "        elif sqr_color == \"white\":\n",
    "            self.direction = (self.direction + 1) % 4\n",
    "        else:\n",
    "            print(\"Noninterpretable color in ant update\")\n",
    "\n",
    "        self.move_forward()\n",
    "\n",
    "class World():\n",
    "    def __init__(self):\n",
    "        self.blacks = {}\n",
    "        self.ant = Ant()\n",
    "        self.minx = 0\n",
    "        self.miny = 0\n",
    "        self.maxx = 0\n",
    "        self.maxy = 0\n",
    "\n",
    "    def step_one(self):\n",
    "        if (self.ant.x, self.ant.y) in self.blacks:\n",
    "            del self.blacks[(self.ant.x, self.ant.y)]\n",
    "            self.ant.update(\"black\")\n",
    "        else:\n",
    "            self.blacks[(self.ant.x, self.ant.y)] = True\n",
    "            self.ant.update(\"white\")\n",
    "        self.update_max_min(self.ant.x,self.ant.y)\n",
    "\n",
    "    def step(self, k):\n",
    "        for i in range(k):\n",
    "            self.step_one()\n",
    "            \n",
    "    def update_max_min(self, x, y):\n",
    "        if x < self.minx:\n",
    "            self.minx = x\n",
    "        if x > self.maxx:\n",
    "            self.maxx = x\n",
    "        if y < self.miny:\n",
    "            self.miny = y\n",
    "        if y > self.maxy:\n",
    "            self.maxy = y\n",
    "\n",
    "    def print_grid(self):\n",
    "        for j in range(self.maxy, self.miny - 1, -1):\n",
    "            for i in range(self.minx, self.maxx + 1):\n",
    "                print(\"B\" if (i,j) in self.blacks else \"_\", end = \"\")\n",
    "            print(\"\")\n",
    "\n",
    "world = World()\n",
    "world.step(10000)\n",
    "world.print_grid()"
   ]
  },
  {
   "cell_type": "code",
   "execution_count": 19,
   "metadata": {},
   "outputs": [
    {
     "data": {
      "text/plain": [
       "[999, 2, 3, 4]"
      ]
     },
     "execution_count": 19,
     "metadata": {},
     "output_type": "execute_result"
    }
   ],
   "source": [
    "# Python dictionaries store pointers to mutable variables (as expected)\n",
    "xs = [1,2,3,4]\n",
    "d = {}\n",
    "d[1] = xs\n",
    "ys = d[1]\n",
    "ys[0] = 999\n",
    "xs"
   ]
  },
  {
   "cell_type": "code",
   "execution_count": 20,
   "metadata": {},
   "outputs": [
    {
     "data": {
      "text/plain": [
       "29.0"
      ]
     },
     "execution_count": 20,
     "metadata": {},
     "output_type": "execute_result"
    }
   ],
   "source": [
    "def eval(s):\n",
    "    for i in range(len(s)-1,-1,-1):\n",
    "        if s[i] == \"+\":\n",
    "            return eval(s[:i]) + eval(s[i+1:])\n",
    "        if s[i] == \"-\":\n",
    "            return eval(s[:i]) - eval(s[i+1:])\n",
    "\n",
    "    for i in range(len(s)-1,-1,-1):\n",
    "        if s[i] == \"*\":\n",
    "            return eval(s[:i]) * eval(s[i+1:])\n",
    "        if s[i] == \"/\":\n",
    "            return eval(s[:i]) / eval(s[i+1:])\n",
    "    return int(s)\n",
    "\n",
    "eval(\"3+5*6-8/4*2\")"
   ]
  },
  {
   "cell_type": "code",
   "execution_count": 21,
   "metadata": {},
   "outputs": [
    {
     "data": {
      "text/plain": [
       "[8, 15, 9, 4, 11, 18, 0, 13, 10, 2, 7, 12, 3, 14, 5, 1, 19, 17, 16, 6]"
      ]
     },
     "execution_count": 21,
     "metadata": {},
     "output_type": "execute_result"
    }
   ],
   "source": [
    "import random\n",
    "from math import floor\n",
    "\n",
    "def swap(xs, i ,j):\n",
    "    dum = xs[i]\n",
    "    xs[i] = xs[j]\n",
    "    xs[j] = dum\n",
    "\n",
    "def shuffle(xs):\n",
    "    N = len(xs)\n",
    "    for i in range(N):\n",
    "        j = i + floor(random.random() * (N - i))\n",
    "        swap(xs, i ,j)\n",
    "\n",
    "xs = list(range(20))\n",
    "shuffle(xs)\n",
    "xs"
   ]
  },
  {
   "cell_type": "code",
   "execution_count": 22,
   "metadata": {},
   "outputs": [
    {
     "name": "stdout",
     "output_type": "stream",
     "text": [
      "called 7 2 [[0, 0, 0], [0, 0, 1], [0, 1, 0], [0, 1, 1], [1, 0, 0], [1, 1, 0], [1, 1, 1]]\n",
      "4 4 3 4\n",
      "missing digit 1\n",
      "called 3 1 [[0, 0, 1], [0, 1, 1], [1, 1, 1]]\n",
      "1 2 2 2\n",
      "missing digit 0\n",
      "called 1 0 [[0, 0, 1]]\n",
      "1 1 0 1\n",
      "missing digit 1\n",
      "called 0 -1 []\n"
     ]
    },
    {
     "data": {
      "text/plain": [
       "[1, 0, 1]"
      ]
     },
     "execution_count": 22,
     "metadata": {},
     "output_type": "execute_result"
    }
   ],
   "source": [
    "def to_binary(n):\n",
    "    bin = []\n",
    "    while n >= 1:\n",
    "        bin.append(n % 2)\n",
    "        n = n // 2\n",
    "    return bin\n",
    "\n",
    "def missing_num(aa, relevant_indices, n, top_dig):\n",
    "    print(\"called\",n, top_dig, [aa[x] for x in relevant_indices])\n",
    "    \n",
    "    if top_dig == -1:\n",
    "        return []\n",
    "    \n",
    "    bs = to_binary(n)\n",
    "    exp_w_one = n % (2 ** top_dig) + 1\n",
    "    exp_w_zero = 2 ** top_dig\n",
    "\n",
    "    count_w_one = 0\n",
    "    count_w_zero = 0\n",
    "    \n",
    "    for i in range(n):\n",
    "        if aa[relevant_indices[i]][top_dig] == 0:\n",
    "            count_w_zero += 1\n",
    "        else: \n",
    "            count_w_one += 1\n",
    "\n",
    "    print(count_w_zero, exp_w_zero, count_w_one, exp_w_one)\n",
    "    if count_w_zero < exp_w_zero:\n",
    "        print(\"missing digit\", 0)\n",
    "        rel = []\n",
    "        for i in range(n):\n",
    "            if aa[relevant_indices[i]][top_dig] == 0:\n",
    "                rel.append(relevant_indices[i])\n",
    "        r = missing_num(aa, rel, 2 ** top_dig - 1, top_dig - 1)\n",
    "        r.append(0)\n",
    "        return r\n",
    "    if count_w_one < exp_w_one:\n",
    "        print(\"missing digit\", 1)\n",
    "        rel = []\n",
    "        for i in range(n):\n",
    "            if aa[relevant_indices[i]][top_dig] == 1:\n",
    "                rel.append(relevant_indices[i])        \n",
    "        r = missing_num(aa, rel, exp_w_one - 1, top_dig - 1)\n",
    "        r.append(1)\n",
    "        return r\n",
    "\n",
    "aa = [[0,0,0],\n",
    "      [0,0,1],\n",
    "      [0,1,0],\n",
    "      [0,1,1],\n",
    "      [1,0,0],\n",
    "      #[1,0,1],\n",
    "      [1,1,0],\n",
    "      [1,1,1]]\n",
    "\n",
    "missing_num(aa, range(len(aa)), 7, 2)"
   ]
  },
  {
   "cell_type": "code",
   "execution_count": 23,
   "metadata": {
    "collapsed": true
   },
   "outputs": [],
   "source": [
    "xs = []\n",
    "xs.append(1)"
   ]
  },
  {
   "cell_type": "code",
   "execution_count": 24,
   "metadata": {},
   "outputs": [
    {
     "data": {
      "text/plain": [
       "'asdf1112ab112ba1'"
      ]
     },
     "execution_count": 24,
     "metadata": {},
     "output_type": "execute_result"
    }
   ],
   "source": [
    "def letters_and_numbers(xs):\n",
    "    sum = 0\n",
    "    sums_firsts = {}\n",
    "    sums_lasts = {}\n",
    "\n",
    "    for i, c in enumerate(xs):\n",
    "        if c.isalpha():\n",
    "            sum += 1\n",
    "        elif c.isnumeric():\n",
    "            sum -= 1\n",
    "        if not (sum in sums_firsts):\n",
    "            sums_firsts[sum] = i\n",
    "            sums_lasts[sum] = i\n",
    "        else:\n",
    "            sums_lasts[sum] = i\n",
    "\n",
    "    max_seen = 0\n",
    "    max_pos_1 = 0\n",
    "    max_pos_2 = 0\n",
    "    for s in sums_firsts:\n",
    "        d = sums_lasts[s] - sums_firsts[s]\n",
    "        if d > max_seen:\n",
    "            max_seen = d\n",
    "            max_pos_1 = sums_firsts[s]\n",
    "            max_pos_2 = sums_lasts[s]\n",
    "\n",
    "    return xs[max_pos_1+1:max_pos_2+1]\n",
    "\n",
    "letters_and_numbers(\"111111asdf1112ab112ba111111111\")\n"
   ]
  },
  {
   "cell_type": "code",
   "execution_count": 25,
   "metadata": {
    "collapsed": true
   },
   "outputs": [],
   "source": [
    "def twos_in_last_digit_up_to(n):\n",
    "    return (n + 8) // 10\n",
    "\n",
    "def twos_in_numbers_up_to(n):\n",
    "    m = n\n",
    "    total = 0\n",
    "    power_of_ten = 1\n",
    "    while m > 0:\n",
    "        total += twos_in_last_digit_up_to(m) * power_of_ten\n",
    "        if m %10 == 2: # correction\n",
    "            total -= power_of_ten\n",
    "            total += (n % power_of_ten) + 1\t\n",
    "        power_of_ten *= 10\n",
    "        m = m // 10\n",
    "    return total\n"
   ]
  },
  {
   "cell_type": "code",
   "execution_count": 26,
   "metadata": {
    "scrolled": true
   },
   "outputs": [
    {
     "data": {
      "text/plain": [
       "14"
      ]
     },
     "execution_count": 26,
     "metadata": {},
     "output_type": "execute_result"
    }
   ],
   "source": [
    "twos_in_numbers_up_to(32)"
   ]
  },
  {
   "cell_type": "code",
   "execution_count": 27,
   "metadata": {},
   "outputs": [
    {
     "name": "stdout",
     "output_type": "stream",
     "text": [
      "{'Blaake': ['Bleyyk'], 'Johnny': ['Jony'], 'Bulake': ['Bleyyk'], 'Jony': ['Johan', 'Johnny'], 'Johan': ['Jony', 'Jon'], 'Bleyyk': ['Bulake', 'Blaake'], 'Jon': ['Johan']}\n"
     ]
    },
    {
     "data": {
      "text/plain": [
       "{'Bulake': 12, 'Johan': 19}"
      ]
     },
     "execution_count": 27,
     "metadata": {},
     "output_type": "execute_result"
    }
   ],
   "source": [
    "def combined_freqs(name_freqs, synonyms):\n",
    "\n",
    "    adjacencies = {}\n",
    "    visited_table = {}\n",
    "    final_freqs = {}\n",
    "\n",
    "    def DFS_visit(name, original_name):\n",
    "\n",
    "        visited_table[name] = original_name\n",
    "        final_freqs[original_name] += name_freqs[name]\n",
    "\n",
    "        for synname in adjacencies[name]:\n",
    "            if not (synname in visited_table):\n",
    "                DFS_visit(synname, original_name)\n",
    "\n",
    "    def make_graph():\n",
    "\n",
    "        for name in name_freqs:\n",
    "            adjacencies[name] = []\n",
    "\n",
    "        for synopair in synonyms:\n",
    "            adjacencies[synopair[0]].append(synopair[1])\n",
    "            adjacencies[synopair[1]].append(synopair[0])\n",
    "\n",
    "\n",
    "    make_graph()\n",
    "    for name in name_freqs:\n",
    "        if not (name in visited_table):\n",
    "            final_freqs[name] = 0\n",
    "            DFS_visit(name, name)\n",
    "\n",
    "    print(adjacencies)\n",
    "    return final_freqs\n",
    "\n",
    "name_freqs = { \"Johnny\":1, \"Jony\":5, \"Jon\":5, \"Johan\":8, \"Blaake\":4, \"Bulake\":4, \"Bleyyk\":4 }\n",
    "synonyms = { (\"Johnny\", \"Jony\"), (\"Jon\", \"Johan\"), (\"Johan\", \"Jony\"), (\"Blaake\", \"Bleyyk\"), (\"Bleyyk\", \"Bulake\") }\n",
    "\n",
    "combined_freqs(name_freqs, synonyms)"
   ]
  },
  {
   "cell_type": "code",
   "execution_count": 28,
   "metadata": {},
   "outputs": [
    {
     "name": "stdout",
     "output_type": "stream",
     "text": [
      "{'Blaake': ['Bleyyk'], 'Johnny': ['Jony'], 'Bulake': ['Bleyyk'], 'Jony': ['Johan', 'Johnny'], 'Johan': ['Jony', 'Jon'], 'Bleyyk': ['Bulake', 'Blaake'], 'Jon': ['Johan']}\n"
     ]
    },
    {
     "data": {
      "text/plain": [
       "{'Bulake': 12, 'Johan': 19}"
      ]
     },
     "execution_count": 28,
     "metadata": {},
     "output_type": "execute_result"
    }
   ],
   "source": [
    "# stack version of DFS:\n",
    "\n",
    "def combined_freqs(name_freqs, synonyms):\n",
    "\n",
    "    adjacencies = {}\n",
    "    visited_table = {}\n",
    "    final_freqs = {}\n",
    "\n",
    "    def make_graph():\n",
    "\n",
    "        for name in name_freqs:\n",
    "            adjacencies[name] = []\n",
    "\n",
    "        for synopair in synonyms:\n",
    "            adjacencies[synopair[0]].append(synopair[1])\n",
    "            adjacencies[synopair[1]].append(synopair[0])\n",
    "\n",
    "\n",
    "    make_graph()\n",
    "    for name in name_freqs:\n",
    "        if not (name in visited_table):\n",
    "            final_freqs[name] = 0\n",
    "            q = deque()\n",
    "            q.append(name)\n",
    "            while q:\n",
    "                nm = q.pop()\n",
    "                if nm in visited_table:\n",
    "                    continue\n",
    "                visited_table[nm] = name\n",
    "                final_freqs[name] += name_freqs[nm]\n",
    "\n",
    "                for synname in adjacencies[nm]:\n",
    "                    if not (synname in visited_table):\n",
    "                        q.append(synname)\n",
    "\n",
    "\n",
    "            \n",
    "    print(adjacencies)\n",
    "    return final_freqs\n",
    "\n",
    "name_freqs = { \"Johnny\":1, \"Jony\":5, \"Jon\":5, \"Johan\":8, \"Blaake\":4, \"Bulake\":4, \"Bleyyk\":4 }\n",
    "synonyms = { (\"Johnny\", \"Jony\"), (\"Jon\", \"Johan\"), (\"Johan\", \"Jony\"), (\"Blaake\", \"Bleyyk\"), (\"Bleyyk\", \"Bulake\") }\n",
    "\n",
    "combined_freqs(name_freqs, synonyms)"
   ]
  },
  {
   "cell_type": "code",
   "execution_count": 29,
   "metadata": {},
   "outputs": [
    {
     "name": "stdout",
     "output_type": "stream",
     "text": [
      "(75, 190) (70, 150) (68, 110) (65, 100) (60, 95) (56, 90) \n",
      "6\n"
     ]
    }
   ],
   "source": [
    "memorized_lp = {}\n",
    "memorized_after = {}\n",
    "\n",
    "points = { (65, 100), (70, 150), (56, 90), (75, 190), (60, 95), (68, 110)}\n",
    "\n",
    "def longest_path_from(x, y):\n",
    "\n",
    "    if (x,y) in memorized_lp:\n",
    "        return memorized_lp[(x,y)], memorized_after[(x,y)]\n",
    "    \n",
    "    max_path = 0\n",
    "    max_after = (x, y)\n",
    "    \n",
    "    for (xnew, ynew) in points:\n",
    "        if xnew < x and ynew < y:\n",
    "            pl, after = longest_path_from(xnew, ynew)\n",
    "            if pl > max_path:\n",
    "                max_path = pl\n",
    "                max_after = (xnew, ynew)\n",
    "    \n",
    "    memorized_lp[(x,y)] = max_path + 1\n",
    "    memorized_after[(x,y)] = max_after\n",
    "    return max_path + 1, max_after\n",
    "\n",
    "max_path = 0\n",
    "for (x,y) in points:\n",
    "    pl, after = longest_path_from(x, y)\n",
    "    if  pl > max_path:\n",
    "        max_path = pl\n",
    "        max_source = (x, y)\n",
    "\n",
    "x, y = max_source\n",
    "print((x, y), end=\" \")\n",
    "while (x, y) != memorized_after[(x,y)]:\n",
    "    x, y = memorized_after[x,y]\n",
    "    print((x, y), end=\" \")\n",
    "    \n",
    "print(\"\")     \n",
    "print(max_path)\n"
   ]
  },
  {
   "cell_type": "code",
   "execution_count": 30,
   "metadata": {},
   "outputs": [
    {
     "data": {
      "text/plain": [
       "[1, 3, 5, 7, 9, 15, 21, 25, 27, 35, 45]"
      ]
     },
     "execution_count": 30,
     "metadata": {},
     "output_type": "execute_result"
    }
   ],
   "source": [
    "# kth ordered power of 3, 5, 7\n",
    "def powers(k):\n",
    "    numbers = [1]\n",
    "    q3 = deque([3])\n",
    "    q5 = deque([5])\n",
    "    q7 = deque([7])\n",
    "\n",
    "    for i in range(k):\n",
    "        mi = min([q3[0], q5[0], q7[0]])\n",
    "        if mi == q3[0]:\n",
    "            q3.append(mi * 3)\n",
    "            q5.append(mi * 5)\n",
    "            q7.append(mi * 7)\n",
    "            q3.popleft()\n",
    "        elif mi == q5[0]:\n",
    "            q5.append(mi * 5)\n",
    "            q7.append(mi * 7)\n",
    "            q5.popleft()\n",
    "        else:\n",
    "            q7.append(mi * 7)\n",
    "            q7.popleft()\n",
    "        numbers.append(mi)\n",
    "    return numbers\n",
    "\n",
    "powers(10)\n"
   ]
  },
  {
   "cell_type": "code",
   "execution_count": 31,
   "metadata": {},
   "outputs": [
    {
     "data": {
      "text/plain": [
       "5"
      ]
     },
     "execution_count": 31,
     "metadata": {},
     "output_type": "execute_result"
    }
   ],
   "source": [
    "def check_if_maj(xs, majority_candidate):\n",
    "    count = 0\n",
    "    for x in xs:\n",
    "        if x == majority_candidate:\n",
    "            count += 1\n",
    "    return (count > len(xs)/2)\t\n",
    "\n",
    "def majority(xs):\n",
    "    count = 0\n",
    "    for i in range(len(xs)):\n",
    "        if count == 0:\n",
    "            majority_candidate = xs[i]\n",
    "            count = 1\n",
    "        elif xs[i] == majority_candidate:\n",
    "            count += 1\n",
    "        else:\n",
    "            count -= 1\n",
    "\n",
    "    if check_if_maj(xs, majority_candidate):\n",
    "        return majority_candidate\n",
    "    else:\n",
    "        return -1\n",
    "\n",
    "majority([5,5,1,1,5,2,3,5,5])"
   ]
  },
  {
   "cell_type": "code",
   "execution_count": 32,
   "metadata": {},
   "outputs": [
    {
     "name": "stdout",
     "output_type": "stream",
     "text": [
      "node: 4\n",
      "node: 6\n",
      "node: 7\n",
      "node: 8\n",
      "node: 10\n",
      "node: 11\n",
      "node: 15\n",
      "node: 17\n"
     ]
    }
   ],
   "source": [
    "class BiNode():\n",
    "    def __init__(self, key):\n",
    "        self.key = key\n",
    "        self.node1 = None\n",
    "        self.node2 = None\n",
    "\n",
    "class BSTree():\n",
    "    def __init__(self):\n",
    "        self.root = None\n",
    "        \n",
    "class LinkedList():\n",
    "    def __init__(self):\n",
    "        self.start = None\n",
    "        self.end = None\n",
    "\n",
    "    def print_nodes(self):\n",
    "        cur = self.start\n",
    "        while cur:\n",
    "            print(\"node:\", cur.key)\n",
    "            cur = cur.node1\n",
    "\n",
    "\n",
    "\n",
    "def change_to_linked_list(tree):\n",
    "\n",
    "    def traverse(node):\n",
    "        if node.node1:\n",
    "            left_end, left_connect = traverse(node.node1)\n",
    "        else:\n",
    "            left_end, left_connect = node, None \n",
    "        if node.node2:\n",
    "            right_connect, right_end = traverse(node.node2)\n",
    "        else:\n",
    "            right_connect, right_end = None, node\n",
    "        \n",
    "        if right_connect:\n",
    "            node.node1 = right_connect\n",
    "            right_connect.node2 = node\n",
    "        if left_connect:\n",
    "            node.node2 = left_connect\n",
    "            left_connect.node1 = node\n",
    "        \n",
    "        return (left_end, right_end)\n",
    "\n",
    "    start, end = traverse(tree.root)\n",
    "    li = LinkedList()\n",
    "    li.start = start\n",
    "    li.end = end\n",
    "    return li\n",
    "\n",
    "tree = BSTree()\n",
    "tree.root = BiNode(10)\n",
    "tree.root.node1 = BiNode(6)\n",
    "tree.root.node2 = BiNode(15)\n",
    "tree.root.node1.node1 = BiNode(4)\n",
    "tree.root.node1.node2 = BiNode(7)\n",
    "tree.root.node1.node2.node2 = BiNode(8)\n",
    "tree.root.node2.node1 = BiNode(11)\n",
    "tree.root.node2.node2 = BiNode(17)\n",
    "\n",
    "li = change_to_linked_list(tree)\n",
    "\n",
    "li.print_nodes()"
   ]
  },
  {
   "cell_type": "code",
   "execution_count": 33,
   "metadata": {},
   "outputs": [
    {
     "data": {
      "text/plain": [
       "(4, 'my name is Umut ')"
      ]
     },
     "execution_count": 33,
     "metadata": {},
     "output_type": "execute_result"
    }
   ],
   "source": [
    "from collections import deque\n",
    "from copy import copy\n",
    "\n",
    "memorized = {}\n",
    "\n",
    "def best_split(s, start, dictionary):\n",
    "    if start in memorized:\n",
    "        return memorized[start]\n",
    "    \n",
    "    if start >= len(s):\n",
    "        q = \"\"\n",
    "        return 0, q\n",
    "    \n",
    "    min_seen = len(s) - start + 1\n",
    "\n",
    "    for i in range(start + 1, len(s) + 1):\n",
    "        current_seen, split = best_split(s, i, dictionary)\n",
    "        current_seen += 0 if s[start:i] in dictionary else (i - start)\n",
    "        if current_seen <= min_seen:\n",
    "            min_seen = current_seen\n",
    "            min_split = s[start:i] + \" \" + split\n",
    "        \n",
    "    memorized[start] = (min_seen, min_split)\n",
    "    return min_seen, min_split\n",
    "\n",
    "dictionary = { \"my\", \"name\", \"is\"}\n",
    "best_split(\"mynameisUmut\", 0, dictionary)\n",
    "#memorized"
   ]
  },
  {
   "cell_type": "code",
   "execution_count": 34,
   "metadata": {},
   "outputs": [
    {
     "data": {
      "text/plain": [
       "'dogwalker'"
      ]
     },
     "execution_count": 34,
     "metadata": {},
     "output_type": "execute_result"
    }
   ],
   "source": [
    "def longest_combo_word(dictionary):\n",
    "\n",
    "    def is_combo(word):\n",
    "        \n",
    "        if len(word) == 0:\n",
    "            return True\n",
    "        for i in range(len(word)):\n",
    "            if word[:i+1] in dictionary:\n",
    "                return is_combo(word[i+1:])\n",
    "        return False\n",
    "\n",
    "    max_seen = 0\n",
    "    max_word = \"\"\n",
    "    for word in dictionary:\n",
    "        if len(word) > max_seen and is_combo(word):\n",
    "            max_seen = len(word)\n",
    "            max_word = word\n",
    "\n",
    "    return max_word\n",
    "\n",
    "dictionary = { \"banana\", \"bana\", \"nana\", \"cat\", \"dog\", \"walker\", \"dogwalker\" }\n",
    "longest_combo_word(dictionary)"
   ]
  },
  {
   "cell_type": "code",
   "execution_count": 35,
   "metadata": {},
   "outputs": [
    {
     "data": {
      "text/plain": [
       "(180, [30, 60, 45, 45])"
      ]
     },
     "execution_count": 35,
     "metadata": {},
     "output_type": "execute_result"
    }
   ],
   "source": [
    "memorized = {}\n",
    "\n",
    "def optimal_schedule(xs, start):\n",
    "    if start >= len(xs):\n",
    "        return 0, []\n",
    "    if start == len(xs) - 1:\n",
    "        return xs[start], [1]\n",
    "\n",
    "    if start in memorized:\n",
    "        return memorized[start]\n",
    "\n",
    "    answ_skip, list_skip = optimal_schedule(xs, start + 1)\n",
    "    answ_keep, list_keep = optimal_schedule(xs, start + 2)\n",
    "    answ_keep += xs[start]\n",
    "\n",
    "    if answ_skip > answ_keep:\n",
    "        memorized[start] = (answ_skip, list_skip + [0])\n",
    "        return answ_skip, list_skip + [0]\n",
    "\n",
    "    memorized[start] = (answ_keep, list_keep + [0, 1])\n",
    "    return answ_keep, list_keep + [0, 1]\n",
    "\n",
    "def optimal_sched_final(xs):\n",
    "    answer, list = optimal_schedule(xs, 0)\n",
    "    list.reverse()\n",
    "    return answer, [xs[i] for i in range(len(xs)) if list[i] == 1] \n",
    "\n",
    "xs = [30,15,60,75,45,15,15,45]\n",
    "optimal_sched_final(xs)"
   ]
  },
  {
   "cell_type": "code",
   "execution_count": 36,
   "metadata": {},
   "outputs": [
    {
     "name": "stdout",
     "output_type": "stream",
     "text": [
      "hell 0\n",
      "hello 0\n",
      "el 1\n",
      "el 6\n",
      "oo 8\n",
      "hell 10\n",
      "hello 10\n",
      "el 11\n",
      "oo 14\n"
     ]
    }
   ],
   "source": [
    "class TrieNode():\n",
    "    def __init__(self, key):\n",
    "        self.key = key\n",
    "        self.children = {}\n",
    "\n",
    "end = TrieNode(\"\")\n",
    "\n",
    "class Trie():\n",
    "    def __init__(self):\n",
    "        self.root = TrieNode(\"\")\n",
    "\n",
    "    def add(self, word):\n",
    "        cur = self.root\n",
    "        for c in word:\n",
    "            if not (c in cur.children):\n",
    "                cur.children[c] = TrieNode(c)\n",
    "            cur = cur.children[c]\n",
    "        cur.children[\"end\"] = end\n",
    "\n",
    "    def prin(self):\n",
    "        def recurse(node):\n",
    "            print(node.key, [x for x in node.children])\n",
    "            for c in node.children:\n",
    "                recurse(node.children[c])\n",
    "        recurse(self.root)\n",
    "        \n",
    "        \n",
    "def make_trie(words):\n",
    "    tr = Trie()\n",
    "    for word in words:\n",
    "        tr.add(word)\n",
    "    return tr\n",
    "\n",
    "def subwords(big_string, words):\n",
    "    trie = make_trie(words)\n",
    "    #trie.prin()\n",
    "    \n",
    "    for start in range(len(big_string)):\n",
    "        cur = trie.root\n",
    "        for i in range(start, len(big_string)):\n",
    "            #print(big_string[i], [cur.children[x].key for x in cur.children])\n",
    "            if big_string[i] in cur.children:\n",
    "                cur = cur.children[big_string[i]]\n",
    "                if \"end\" in cur.children:\n",
    "                    print(big_string[start:i+1], start)\n",
    "            else:\n",
    "                break\n",
    "\n",
    "words = { \"hello\", \"mello\", \"el\", \"hell\", \"oo\", \"mellow\" }\n",
    "big_string = \"hellomeloohelloo\"\n",
    "subwords(big_string, words)"
   ]
  },
  {
   "cell_type": "code",
   "execution_count": 37,
   "metadata": {},
   "outputs": [
    {
     "name": "stdout",
     "output_type": "stream",
     "text": [
      "9 [12, 12, 12, 12, 12, 12, 12, 12, 12, 12, 12, 12, 12, 17, 17, 17, 17, 17, -1]\n",
      "5 [4, 4, 4, 4, 4, 7, 7, 7, 10, 10, 10, 15, 15, 15, 15, 15, -1, -1, -1]\n",
      "1 [0, 9, 9, 9, 9, 9, 9, 9, 9, 9, 18, 18, 18, 18, 18, 18, 18, 18, 18]\n",
      "-1\n",
      "12\n",
      "8\n",
      "5\n"
     ]
    },
    {
     "data": {
      "text/plain": [
       "(9, 12)"
      ]
     },
     "execution_count": 37,
     "metadata": {},
     "output_type": "execute_result"
    }
   ],
   "source": [
    "def smallest_subarray_with_subset(xs, set):\n",
    "\n",
    "    def build_table(xs, set):\n",
    "        table = {}\n",
    "        for s in set:\n",
    "            table[s] = [0 for i in xs]\n",
    "            last_s_loc = -1\n",
    "            for i in reversed(range(len(xs))):\n",
    "                if xs[i] == s:\n",
    "                    last_s_loc = i\n",
    "                table[s][i] = last_s_loc\n",
    "        return table\n",
    "\n",
    "    table = build_table(xs, set)\n",
    "    for s in set:\n",
    "        print(s, table[s])\n",
    "    min_seen = -1\n",
    "    for i in range(len(xs)):\n",
    "        mi = min([table[s][i] for s in set])\n",
    "        ma = max([table[s][i] for s in set])\n",
    "        if mi != -1 and (min_seen == -1 or (ma - mi) < min_seen):\n",
    "            print(min_seen)\n",
    "            min_seen = ma - mi\n",
    "            min_start = mi\n",
    "            min_end = ma\n",
    "\n",
    "    return(min_start, min_end)\n",
    "\n",
    "xs = [1,2,3,4,5,6,7,5,3,1,5,7,9,3,2,5,8,9,1]\n",
    "smallest_subarray_with_subset(xs, {1, 5, 9})"
   ]
  },
  {
   "cell_type": "code",
   "execution_count": 38,
   "metadata": {},
   "outputs": [
    {
     "name": "stdout",
     "output_type": "stream",
     "text": [
      "visiting damp\n",
      "adj ['bamp', 'lamp', 'zamp'] q []\n",
      "visiting bamp\n",
      "adj ['damp', 'lamp', 'zamp'] q ['lamp', 'zamp']\n",
      "visiting lamp\n",
      "adj ['bamp', 'damp', 'zamp', 'limp'] q ['zamp']\n",
      "visiting zamp\n",
      "adj ['bamp', 'damp', 'lamp'] q ['limp']\n",
      "visiting limp\n",
      "adj ['pimp', 'lamp', 'lime'] q []\n",
      "visiting pimp\n",
      "adj ['limp'] q ['lime']\n",
      "visiting lime\n",
      "adj ['like', 'limp'] q []\n",
      "visiting like\n",
      "adj ['hike', 'mike', 'rike', 'lime'] q []\n",
      "visiting hike\n",
      "adj ['like', 'mike', 'rike'] q ['mike', 'rike']\n",
      "visiting mike\n",
      "adj ['hike', 'like', 'rike'] q ['rike']\n",
      "visiting rike\n",
      "adj ['hike', 'like', 'mike'] q []\n",
      "limp 2\n",
      "damp 2\n",
      "zamp 2\n",
      "hike 2\n",
      "lamp 2\n",
      "like 2\n",
      "rike 2\n",
      "mike 2\n",
      "bamp 2\n",
      "pimp 2\n",
      "lime 2\n",
      "lamp damp\n",
      "zamp damp\n",
      "like lime\n",
      "hike like\n",
      "limp lamp\n",
      "mike like\n",
      "bamp damp\n",
      "pimp limp\n",
      "lime limp\n",
      "rike like\n"
     ]
    },
    {
     "data": {
      "text/plain": [
       "['like', 'lime', 'limp', 'lamp', 'damp']"
      ]
     },
     "execution_count": 38,
     "metadata": {},
     "output_type": "execute_result"
    }
   ],
   "source": [
    "from string import ascii_lowercase\n",
    "\n",
    "dictionary = { \"like\", \"mike\", \"damp\", \"lamp\", \"limp\", \"lime\", \"hike\", \"rike\", \"pimp\", \"bamp\", \"zamp\"}\n",
    "\n",
    "letters = ascii_lowercase\n",
    "\n",
    "def switched(s, i, c):\n",
    "    return s[:i] + c + s[i+1:]\n",
    "\n",
    "def make_adj_table(dictionary):\n",
    "    adj_table = {}\n",
    "    for word in dictionary:\n",
    "        for i in range(len(word)):\n",
    "            for c in letters:\n",
    "                if word[i] != c and switched(word, i, c) in dictionary:\n",
    "                    if word not in adj_table:\n",
    "                        adj_table[word] = []\n",
    "                    adj_table[word].append(switched(word, i, c))\n",
    "\n",
    "    return adj_table\n",
    "\n",
    "from collections import deque\n",
    "\n",
    "def shortest_path(word1, word2, dictionary):\n",
    "    adjacency = make_adj_table(dictionary)\n",
    "\n",
    "    color = {}\n",
    "    source = {}\n",
    "    for word in dictionary:\n",
    "        color[word] = 0\n",
    "\n",
    "    q = deque()\n",
    "    q.append(word1)\n",
    "\n",
    "    while q:\n",
    "        current_word = q.popleft()\n",
    "        print(\"visiting\", current_word)\n",
    "        print(\"adj\", [x for x in adjacency[current_word]], \"q\", [x for x in q])\n",
    "        color[current_word] = 2\n",
    "        for w in adjacency[current_word]:\n",
    "            if color[w] == 0:\n",
    "                source[w] = current_word\n",
    "                q.append(w)\n",
    "                color[w] = 1\n",
    "    \n",
    "    for word in dictionary:\n",
    "        print(word, color[word])\n",
    "    for word in source:\n",
    "        print(word, source[word])\n",
    "    \n",
    "    path = [word2]\n",
    "    cur = word2\n",
    "    while cur in source:\n",
    "        path.append(source[cur])\n",
    "        cur = source[cur]\n",
    "    \n",
    "    return path\n",
    "\n",
    "shortest_path(\"damp\", \"like\", dictionary)\n",
    "\n"
   ]
  },
  {
   "cell_type": "code",
   "execution_count": 39,
   "metadata": {},
   "outputs": [
    {
     "data": {
      "text/plain": [
       "(4, 1, 1)"
      ]
     },
     "execution_count": 39,
     "metadata": {},
     "output_type": "execute_result"
    }
   ],
   "source": [
    "def make_squares(A):\n",
    "    N = len(A)\n",
    "    right = [[0 for i in range(N)] for i in range(N)]\n",
    "    for i, row in enumerate(A):\n",
    "        last_put = 0\n",
    "        for j in reversed(range(N)):\n",
    "            if A[i][j] == 1:\n",
    "                last_put += 1\n",
    "                right[i][j] = last_put\n",
    "            else:\n",
    "                last_put = 0\n",
    "\n",
    "    down = [[0 for i in range(N)] for i in range(N)]\n",
    "    for j in range(N):\n",
    "        last_put = 0\n",
    "        for i in reversed(range(N)):\n",
    "            if A[i][j] == 1:\n",
    "                last_put += 1\n",
    "                down[i][j] = last_put\n",
    "            else:\n",
    "                last_put = 0\n",
    "\n",
    "    return right, down\n",
    "\n",
    "def largest_square(A):\n",
    "    N = len(A)\n",
    "    right, down = make_squares(A)\n",
    "\n",
    "    max_seen = 0\n",
    "    for i in range(N):\n",
    "        for j in range(N):\n",
    "            for k in range(min(right[i][j], down[i][j])):\n",
    "                if k+1 > max_seen and down[i][j+k] >= k+1 and right[i+k][j] >= k+1 :\n",
    "                    max_seen = k+1\n",
    "                    max_i = i\n",
    "                    max_j = j\n",
    "    return max_seen, max_i, max_j\n",
    "\n",
    "A = [[0,0,0,0,0,0],\n",
    "     [0,1,1,1,1,0],\n",
    "     [0,1,0,1,1,0],\n",
    "     [1,1,0,1,1,0],\n",
    "     [1,1,1,1,1,1],\n",
    "     [0,1,0,1,0,0]]\n",
    "\n",
    "largest_square(A)"
   ]
  },
  {
   "cell_type": "code",
   "execution_count": 40,
   "metadata": {},
   "outputs": [
    {
     "data": {
      "text/plain": [
       "(6, (0, 2), (2, 4))"
      ]
     },
     "execution_count": 40,
     "metadata": {},
     "output_type": "execute_result"
    }
   ],
   "source": [
    "def max_sum(xs):\n",
    "    max_seen = 0\n",
    "    max_start = 0\n",
    "    max_end = 0\n",
    "    last_seen = 0\n",
    "    last_seen_start = 0\n",
    "    for i, x in enumerate(xs):\n",
    "        if last_seen > 0:\n",
    "            last_seen = x + last_seen\n",
    "        else:\n",
    "            last_seen = x\n",
    "            last_seen_start = i\n",
    "        if last_seen > max_seen:\n",
    "            max_seen = last_seen\n",
    "            max_start = last_seen_start\n",
    "            max_end = i\n",
    "    return max_seen, max_start, max_end\n",
    "\n",
    "def make_sum_submatrix(A):\n",
    "    for i in range(len(A)):\n",
    "        for j in range(len(A[0])):\n",
    "            s_le = A[i][j-1] if j > 0 else 0\n",
    "            s_ab = A[i-1][j] if i > 0 else 0\n",
    "            s_diag = A[i-1][j-1] if i > 0 and j > 0 else 0 \n",
    "            A[i][j] = A[i][j] + s_le + s_ab - s_diag\n",
    "    return A\n",
    "\n",
    "def safe(A, i, j):\n",
    "    if i < 0 or j < 0:\n",
    "        return 0\n",
    "    else:\n",
    "        return A[i][j]\n",
    "\n",
    "def best_submatrix(A):\n",
    "    A = make_sum_submatrix(A)\n",
    "\n",
    "    max_seen = 0\n",
    "    max_row1, max_row2 = -1, -1\n",
    "    max_col1, max_col2 = -1, -1\n",
    "    col_sums = [0 for j in range(len(A[0]))]\n",
    "    for row1 in range(len(A)):\n",
    "        for row2 in range(row1, len(A)):\n",
    "            for j in range(len(A[0])):\n",
    "                col_sums[j] =  A[row2][j] - safe(A, row1 - 1, j) - safe(A, row2, j - 1) + safe(A, row1 - 1, j - 1)\n",
    "            sumo, last_col1, last_col2 = max_sum(col_sums)\n",
    "            if sumo > max_seen:\n",
    "                max_seen = sumo\n",
    "                max_row1, max_row2 = row1, row2\n",
    "                max_col1, max_col2 = last_col1, last_col2\n",
    "    return max_seen, (max_row1, max_col1), (max_row2, max_col2)\n",
    "\n",
    "\n",
    "A = [[-100,  0, 1,   0, 0, -100],\n",
    "     [   0,  1, 1,   1, 1,    0],\n",
    "     [   0, -1, 0,   1, 1,   -5],\n",
    "     [   1,  1,-1, -10, 1,    0],\n",
    "     [   1,  1, 1,   1,-1,    1],\n",
    "     [   0,  1, 0,   1, 0, -100]]\n",
    "\n",
    "#A = [[1,2,-1,3,5,-1,1,0]]\n",
    "#max_sum([1,2,-1,3,5,-1,1,0])\n",
    "#make_sum_submatrix(A)\n",
    "best_submatrix(A)"
   ]
  },
  {
   "cell_type": "code",
   "execution_count": 41,
   "metadata": {},
   "outputs": [
    {
     "name": "stdout",
     "output_type": "stream",
     "text": [
      "1\n",
      "2\n",
      "3\n",
      "5\n",
      "8\n",
      "13\n",
      "21\n",
      "34\n",
      "55\n",
      "89\n"
     ]
    }
   ],
   "source": [
    "def fibo(n):\n",
    "    x, y = 0, 1\n",
    "    for i in range(n):\n",
    "        x, y = y, x + y\n",
    "        yield y\n",
    "\n",
    "for i in fibo(10):\n",
    "    print(i)"
   ]
  },
  {
   "cell_type": "code",
   "execution_count": 66,
   "metadata": {},
   "outputs": [
    {
     "name": "stdout",
     "output_type": "stream",
     "text": [
      "{'goodby': 2, 'hello': 2}\n"
     ]
    }
   ],
   "source": [
    "wdict = {}\n",
    "words = {\"hello\", \"goodby\"}\n",
    "for word in words:\n",
    "    try:\n",
    "        wdict[word] += 1\n",
    "    except KeyError:\n",
    "        wdict[word] = 1\n",
    "print(wdict)"
   ]
  },
  {
   "cell_type": "code",
   "execution_count": 111,
   "metadata": {},
   "outputs": [
    {
     "name": "stdout",
     "output_type": "stream",
     "text": [
      "2 3 1 4 5 9 7 8 5 5\n"
     ]
    },
    {
     "data": {
      "text/plain": [
       "5 5 8 7 9 5 4 1 3 2"
      ]
     },
     "execution_count": 111,
     "metadata": {},
     "output_type": "execute_result"
    }
   ],
   "source": [
    "class Node(object):\n",
    "\n",
    "    def __init__(self, key, next):\n",
    "        self.key = key\n",
    "        self.next = next\n",
    "\n",
    "class LinkedList(object):\n",
    "\n",
    "    def __init__(self):\n",
    "        self.root = None\n",
    "\n",
    "    def append_left(self, key):\n",
    "        new_node = Node(key, self.root)\n",
    "        self.root = new_node\n",
    "\n",
    "    def __repr__(self):\n",
    "        s = []\n",
    "        cur = self.root\n",
    "        while cur:\n",
    "            s.append(str(cur.key))\n",
    "            cur = cur.next\n",
    "        return \" \".join(s)\n",
    "\n",
    "    def partition(self, x):\n",
    "        cur_i = self.root\n",
    "        cur_bi = self.root\n",
    "        while cur_i:\n",
    "            if cur_i.key < x:\n",
    "                dum = cur_i.key\n",
    "                cur_i.key = cur_bi.key\n",
    "                cur_bi.key = dum\n",
    "                cur_bi = cur_bi.next\n",
    "            cur_i = cur_i.next\n",
    "    \n",
    "def sum_lists(li1, li2):\n",
    "    cur1 = li1.root\n",
    "    cur2 = li2.root\n",
    "    carry_over = 0\n",
    "    new_list = LinkedList()\n",
    "    while cur1 or cur2 or carry_over != 0:\n",
    "        c1 = cur1.key if cur1 else 0\n",
    "        c2 = cur2.key if cur2 else 0\n",
    "        t = c1 + c2 + carry_over\n",
    "        new_list.append_left(t % 10)\n",
    "        carry_over = t // 10\n",
    "        if cur1:\n",
    "            cur1 = cur1.next\n",
    "        if cur2:\n",
    "            cur2 = cur2.next\n",
    "    return new_list\n",
    "\n",
    "# returns beginning end end of reversed list\n",
    "def reverse_from(node):\n",
    "    if not node.next:\n",
    "        return node, node\n",
    "    begi, end = reverse_from(node.next)\n",
    "    end.next = node\n",
    "    node.next = None\n",
    "    return begi, node\n",
    "\n",
    "def reversed(li):\n",
    "    li2 = LinkedList()\n",
    "    li2.root, _ = reverse_from(li.root)\n",
    "    return li2\n",
    "\n",
    "li = LinkedList()\n",
    "li.append_left(5)\n",
    "li.append_left(5)\n",
    "li.append_left(4)\n",
    "li.append_left(7)\n",
    "li.append_left(9)\n",
    "li.append_left(5)\n",
    "li.append_left(1)\n",
    "li.append_left(3)\n",
    "li.append_left(8)\n",
    "li.append_left(2)\n",
    "li.partition(5)\n",
    "print(li)\n",
    "\n",
    "# li1 = LinkedList()\n",
    "# li1.append_left(9)\n",
    "# li1.append_left(2)\n",
    "# li1.append_left(9)\n",
    "# li2 = LinkedList()\n",
    "# li2.append_left(9)\n",
    "# li2.append_left(2)\n",
    "# li2.append_left(9)\n",
    "# print(li1, \" + \",  li2)\n",
    "# sum_lists(li1,li2)\n",
    "\n",
    "reversed(li)"
   ]
  },
  {
   "cell_type": "code",
   "execution_count": 8,
   "metadata": {},
   "outputs": [
    {
     "name": "stdout",
     "output_type": "stream",
     "text": [
      "0\n",
      "1\n",
      "2\n",
      "3\n",
      "4\n",
      "5\n",
      "6\n",
      "7\n",
      "8\n",
      "9\n"
     ]
    }
   ],
   "source": [
    "class Node():\n",
    "    def __init__(self, key, left, right):\n",
    "        self.key = key\n",
    "        self.left = left\n",
    "        self.right = right\n",
    "        \n",
    "def trprint(node):\n",
    "    if not node:\n",
    "        return\n",
    "    trprint(node.left)\n",
    "    print(node.key)\n",
    "    trprint(node.right)\n",
    "    \n",
    "def minimal_tree(xs, start, end):\n",
    "    if start >= end:\n",
    "        return None\n",
    "    if start == end - 1:\n",
    "        return Node(xs[start], None, None)\n",
    "    mid = (start + end) // 2\n",
    "    n1 = minimal_tree(xs, start, mid)\n",
    "    n2 = minimal_tree(xs, mid + 1, end)\n",
    "    return Node(xs[mid], n1, n2)\n",
    "\n",
    "trprint(minimal_tree(list(range(10)), 0, 10))"
   ]
  },
  {
   "cell_type": "code",
   "execution_count": 28,
   "metadata": {},
   "outputs": [
    {
     "data": {
      "text/plain": [
       "(4, True)"
      ]
     },
     "execution_count": 28,
     "metadata": {},
     "output_type": "execute_result"
    }
   ],
   "source": [
    "def is_balanced(node):\n",
    "    \n",
    "    if not node:\n",
    "        return 0, True\n",
    "\n",
    "    if node.left:\n",
    "        h_left, was_balanced_left = is_balanced(node.left)\n",
    "    else:\n",
    "        h_left = 0\n",
    "        was_balanced_left = True\n",
    "\n",
    "    if node.right:\n",
    "        h_right, was_balanced_right = is_balanced(node.right)\n",
    "    else:\n",
    "        h_right = 0\n",
    "        was_balanced_right = True\n",
    "\n",
    "    if abs(h_left - h_right) < 2:\n",
    "        return max(h_left, h_right) + 1, was_balanced_left and was_balanced_right\n",
    "    else:\n",
    "        return max(h_left, h_right) + 1, False\n",
    "\n",
    "is_balanced(minimal_tree(list(range(10)), 0, 10))\n",
    "#is_balanced(Node(1, Node(2, Node(3, None, None), None), None))"
   ]
  },
  {
   "cell_type": "code",
   "execution_count": 57,
   "metadata": {},
   "outputs": [
    {
     "data": {
      "text/plain": [
       "[[1, 5, 10], [3, 3, 10], [1, 2, 3, 10]]"
      ]
     },
     "execution_count": 57,
     "metadata": {},
     "output_type": "execute_result"
    }
   ],
   "source": [
    "def paths_w_sum(node, su):\n",
    "    if not node:\n",
    "        if su == 0:\n",
    "            return [[]]\n",
    "        else:\n",
    "            return []\n",
    "    \n",
    "    ps_left = paths_w_sum(node.left, su - node.key)\n",
    "    for p in ps_left:\n",
    "        p.append(node.key)\n",
    "    ps_right = []\n",
    "    if node.left or node.right: # don't recurse twice on two none children\n",
    "        ps_right = paths_w_sum(node.right, su - node.key)\n",
    "        for p in ps_right:\n",
    "            p.append(node.key)\n",
    "    \n",
    "    return ps_left + ps_right\n",
    "\n",
    "root = Node(10,   Node(5, Node(6,None,None), Node(1,None,None))  ,    Node(3, Node(3,None,None), Node(2,Node(1, None, None),None))   )\n",
    "paths_w_sum(root, 16)            \n",
    "\n"
   ]
  },
  {
   "cell_type": "code",
   "execution_count": 71,
   "metadata": {},
   "outputs": [
    {
     "name": "stdout",
     "output_type": "stream",
     "text": [
      "[1, 2, 0, 3]\n"
     ]
    }
   ],
   "source": [
    "def get_no_incoming(considered, adj):\n",
    "    for v in considered:\n",
    "        no_incoming = True\n",
    "        for j in range(len(adj)):\n",
    "            if j in considered and adj[j][v] != 0:\n",
    "                no_incoming = False\n",
    "                break\n",
    "        if no_incoming:\n",
    "            return v\n",
    "    return None\n",
    "\n",
    "def top_sort(adj):\n",
    "    considered = {v for v in range(len(adj))}\n",
    "    ordered = []\n",
    "    while considered:\n",
    "        v = get_no_incoming(considered, adj)\n",
    "        if v == None:\n",
    "            return None\n",
    "        considered.remove(v)\n",
    "        ordered.append(v)\n",
    "    return ordered\n",
    "\n",
    "adj = [ [0,0,0,1], [1,0,1,1], [1,0,0,1], [0,0,0,0]]\n",
    "print(top_sort(adj))"
   ]
  },
  {
   "cell_type": "code",
   "execution_count": 94,
   "metadata": {
    "scrolled": false
   },
   "outputs": [
    {
     "data": {
      "text/plain": [
       "['7563', '7536']"
      ]
     },
     "execution_count": 94,
     "metadata": {},
     "output_type": "execute_result"
    }
   ],
   "source": [
    "def weaves(xs, ys):\n",
    "    #print(xs, ys)\n",
    "    if len(xs) == 0 and len(ys) == 0:\n",
    "        return [\"\"]\n",
    "    if len(xs) == 0:\n",
    "        return [ys]\n",
    "    if len(ys) == 0:\n",
    "        return [xs]\n",
    "    \n",
    "    return [x + xs[-1] for x in weaves(xs[:-1], ys)] + [y + ys[-1] for y in weaves(xs, ys[:-1])]\n",
    "\n",
    "def all_strings(node):\n",
    "    if node == None:\n",
    "        return [\"\"]\n",
    "    answer = []\n",
    "    left_strs = all_strings(node.left)\n",
    "    right_strs = all_strings(node.right)\n",
    "    for x in left_strs:\n",
    "        for y in right_strs:\n",
    "            answer.extend([str(node.key) + w for w in weaves(x, y)])\n",
    "    return answer\n",
    "\n",
    "#root = Node(7,   Node(5, Node(3,None,None), Node(6,None,None))  ,    Node(10, Node(8,None,None), Node(12,None,None))   )\n",
    "\n",
    "root = Node(7,   Node(5, Node(3,None,None), Node(6,None,None))  ,    None   )\n",
    "\n",
    "all_strings(root)\n"
   ]
  },
  {
   "cell_type": "code",
   "execution_count": 109,
   "metadata": {},
   "outputs": [
    {
     "data": {
      "text/plain": [
       "121"
      ]
     },
     "execution_count": 109,
     "metadata": {},
     "output_type": "execute_result"
    }
   ],
   "source": [
    "coins = [1, 5, 10, 25]\n",
    "memo = {}\n",
    "\n",
    "def num_ways_w_up_to(coins, n, max_coin_index=-10):\n",
    "    if max_coin_index == -10:\n",
    "        max_coin_index = len(coins) - 1\n",
    "    if n == 0:\n",
    "        return 1\n",
    "    if max_coin_index < 0:\n",
    "        return 0\n",
    "    if n < 0:\n",
    "        return 0\n",
    "    \n",
    "    if (n, max_coin_index) in memo:\n",
    "        return memo[(n, max_coin_index)]\n",
    "    \n",
    "    total = 0\n",
    "    coin = coins[max_coin_index]\n",
    "    for i in range(n // coin + 1):\n",
    "        total += num_ways_w_up_to(coins, n - i * coin, max_coin_index - 1)\n",
    "    \n",
    "    memo[(n, max_coin_index)] = total\n",
    "    return total\n",
    "    \n",
    "num_ways_w_up_to(coins, 75)"
   ]
  },
  {
   "cell_type": "code",
   "execution_count": 114,
   "metadata": {},
   "outputs": [
    {
     "name": "stdout",
     "output_type": "stream",
     "text": [
      "[0, 4, 7, 5, 2, 6, 1, 3]\n",
      "[0, 5, 7, 2, 6, 3, 1, 4]\n",
      "[0, 6, 3, 5, 7, 1, 4, 2]\n",
      "[0, 6, 4, 7, 1, 3, 5, 2]\n",
      "[1, 3, 5, 7, 2, 0, 6, 4]\n",
      "[1, 4, 6, 0, 2, 7, 5, 3]\n",
      "[1, 4, 6, 3, 0, 7, 5, 2]\n",
      "[1, 5, 0, 6, 3, 7, 2, 4]\n",
      "[1, 5, 7, 2, 0, 3, 6, 4]\n",
      "[1, 6, 2, 5, 7, 4, 0, 3]\n",
      "[1, 6, 4, 7, 0, 3, 5, 2]\n",
      "[1, 7, 5, 0, 2, 4, 6, 3]\n",
      "[2, 0, 6, 4, 7, 1, 3, 5]\n",
      "[2, 4, 1, 7, 0, 6, 3, 5]\n",
      "[2, 4, 1, 7, 5, 3, 6, 0]\n",
      "[2, 4, 6, 0, 3, 1, 7, 5]\n",
      "[2, 4, 7, 3, 0, 6, 1, 5]\n",
      "[2, 5, 1, 4, 7, 0, 6, 3]\n",
      "[2, 5, 1, 6, 0, 3, 7, 4]\n",
      "[2, 5, 1, 6, 4, 0, 7, 3]\n",
      "[2, 5, 3, 0, 7, 4, 6, 1]\n",
      "[2, 5, 3, 1, 7, 4, 6, 0]\n",
      "[2, 5, 7, 0, 3, 6, 4, 1]\n",
      "[2, 5, 7, 0, 4, 6, 1, 3]\n",
      "[2, 5, 7, 1, 3, 0, 6, 4]\n",
      "[2, 6, 1, 7, 4, 0, 3, 5]\n",
      "[2, 6, 1, 7, 5, 3, 0, 4]\n",
      "[2, 7, 3, 6, 0, 5, 1, 4]\n",
      "[3, 0, 4, 7, 1, 6, 2, 5]\n",
      "[3, 0, 4, 7, 5, 2, 6, 1]\n",
      "[3, 1, 4, 7, 5, 0, 2, 6]\n",
      "[3, 1, 6, 2, 5, 7, 0, 4]\n",
      "[3, 1, 6, 2, 5, 7, 4, 0]\n",
      "[3, 1, 6, 4, 0, 7, 5, 2]\n",
      "[3, 1, 7, 4, 6, 0, 2, 5]\n",
      "[3, 1, 7, 5, 0, 2, 4, 6]\n",
      "[3, 5, 0, 4, 1, 7, 2, 6]\n",
      "[3, 5, 7, 1, 6, 0, 2, 4]\n",
      "[3, 5, 7, 2, 0, 6, 4, 1]\n",
      "[3, 6, 0, 7, 4, 1, 5, 2]\n",
      "[3, 6, 2, 7, 1, 4, 0, 5]\n",
      "[3, 6, 4, 1, 5, 0, 2, 7]\n",
      "[3, 6, 4, 2, 0, 5, 7, 1]\n",
      "[3, 7, 0, 2, 5, 1, 6, 4]\n",
      "[3, 7, 0, 4, 6, 1, 5, 2]\n",
      "[3, 7, 4, 2, 0, 6, 1, 5]\n",
      "[4, 0, 3, 5, 7, 1, 6, 2]\n",
      "[4, 0, 7, 3, 1, 6, 2, 5]\n",
      "[4, 0, 7, 5, 2, 6, 1, 3]\n",
      "[4, 1, 3, 5, 7, 2, 0, 6]\n",
      "[4, 1, 3, 6, 2, 7, 5, 0]\n",
      "[4, 1, 5, 0, 6, 3, 7, 2]\n",
      "[4, 1, 7, 0, 3, 6, 2, 5]\n",
      "[4, 2, 0, 5, 7, 1, 3, 6]\n",
      "[4, 2, 0, 6, 1, 7, 5, 3]\n",
      "[4, 2, 7, 3, 6, 0, 5, 1]\n",
      "[4, 6, 0, 2, 7, 5, 3, 1]\n",
      "[4, 6, 0, 3, 1, 7, 5, 2]\n",
      "[4, 6, 1, 3, 7, 0, 2, 5]\n",
      "[4, 6, 1, 5, 2, 0, 3, 7]\n",
      "[4, 6, 1, 5, 2, 0, 7, 3]\n",
      "[4, 6, 3, 0, 2, 7, 5, 1]\n",
      "[4, 7, 3, 0, 2, 5, 1, 6]\n",
      "[4, 7, 3, 0, 6, 1, 5, 2]\n",
      "[5, 0, 4, 1, 7, 2, 6, 3]\n",
      "[5, 1, 6, 0, 2, 4, 7, 3]\n",
      "[5, 1, 6, 0, 3, 7, 4, 2]\n",
      "[5, 2, 0, 6, 4, 7, 1, 3]\n",
      "[5, 2, 0, 7, 3, 1, 6, 4]\n",
      "[5, 2, 0, 7, 4, 1, 3, 6]\n",
      "[5, 2, 4, 6, 0, 3, 1, 7]\n",
      "[5, 2, 4, 7, 0, 3, 1, 6]\n",
      "[5, 2, 6, 1, 3, 7, 0, 4]\n",
      "[5, 2, 6, 1, 7, 4, 0, 3]\n",
      "[5, 2, 6, 3, 0, 7, 1, 4]\n",
      "[5, 3, 0, 4, 7, 1, 6, 2]\n",
      "[5, 3, 1, 7, 4, 6, 0, 2]\n",
      "[5, 3, 6, 0, 2, 4, 1, 7]\n",
      "[5, 3, 6, 0, 7, 1, 4, 2]\n",
      "[5, 7, 1, 3, 0, 6, 4, 2]\n",
      "[6, 0, 2, 7, 5, 3, 1, 4]\n",
      "[6, 1, 3, 0, 7, 4, 2, 5]\n",
      "[6, 1, 5, 2, 0, 3, 7, 4]\n",
      "[6, 2, 0, 5, 7, 4, 1, 3]\n",
      "[6, 2, 7, 1, 4, 0, 5, 3]\n",
      "[6, 3, 1, 4, 7, 0, 2, 5]\n",
      "[6, 3, 1, 7, 5, 0, 2, 4]\n",
      "[6, 4, 2, 0, 5, 7, 1, 3]\n",
      "[7, 1, 3, 0, 6, 4, 2, 5]\n",
      "[7, 1, 4, 2, 0, 6, 3, 5]\n",
      "[7, 2, 0, 5, 1, 4, 6, 3]\n",
      "[7, 3, 0, 2, 5, 1, 6, 4]\n"
     ]
    },
    {
     "data": {
      "text/plain": [
       "92"
      ]
     },
     "execution_count": 114,
     "metadata": {},
     "output_type": "execute_result"
    }
   ],
   "source": [
    "def row_situation(queens, k, board_size=8):\n",
    "    answer = [0 for _ in range(board_size)]\n",
    "    for i, q in enumerate(queens):\n",
    "        answer[q] = 1\n",
    "        if q + (k - i) < board_size:\n",
    "            answer[q + (k - i)] = 1\n",
    "        if q - (k - i) >= 0:\n",
    "            answer[q - (k - i)] = 1 \n",
    "    return answer\n",
    "\n",
    "def num_placements(queens=[], board_size=8): # careful don't edit queens\n",
    "    k = len(queens)\n",
    "    if k == board_size:\n",
    "        print(queens)\n",
    "        return 1\n",
    "    total = 0\n",
    "    row_sit = row_situation(queens, k, board_size)\n",
    "    for i, full in enumerate(row_sit):\n",
    "        if full == 0:\n",
    "            total += num_placements(queens + [i], board_size)\n",
    "    return total\n",
    "\n",
    "num_placements()"
   ]
  },
  {
   "cell_type": "code",
   "execution_count": 125,
   "metadata": {},
   "outputs": [
    {
     "data": {
      "text/plain": [
       "(4, [(5, 1, 1), (7, 3, 3), (8, 5, 5), (9, 6, 6)])"
      ]
     },
     "execution_count": 125,
     "metadata": {},
     "output_type": "execute_result"
    }
   ],
   "source": [
    "boxes = [(10,5,4), (9,6,6), (8,5,5), (10,3,5), (7,3,3), (5,1,1)]\n",
    "memoi = {}\n",
    "def le(t1,t2):\n",
    "    return t1[0] <= t2[0] and t1[1] <= t2[1] and t1[2] <= t2[2]\n",
    "\n",
    "def highest_stack(i, base_dims, boxes):\n",
    "    if i >= len(boxes):\n",
    "        return 0, []\n",
    "    if (i, base_dims) in memoi:\n",
    "        return memoi[(i, base_dims)]\n",
    "    inc_h = 0\n",
    "    inc_list = []\n",
    "    if le(boxes[i], base_dims):\n",
    "        inc_h, inc_list = highest_stack(i + 1, boxes[i], boxes)\n",
    "        inc_h += 1\n",
    "        inc_list = inc_list + [boxes[i]]\n",
    "    exc_h, exc_list = highest_stack(i + 1, base_dims, boxes)\n",
    "    \n",
    "    if max(inc_h, exc_h) == inc_h:\n",
    "        answ = (inc_h, inc_list)\n",
    "    else:\n",
    "        answ = (exc_h, exc_list)\n",
    "        \n",
    "    if not (i, base_dims) in memoi:\n",
    "        memoi[(i, base_dims)] = answ\n",
    "        \n",
    "    return answ\n",
    "\n",
    "highest_stack(0, (100,100,100), boxes)"
   ]
  },
  {
   "cell_type": "code",
   "execution_count": 138,
   "metadata": {},
   "outputs": [
    {
     "data": {
      "text/plain": [
       "[[3, 2, 1], [2, 3, 1], [2, 1, 3], [3, 1, 2], [1, 3, 2], [1, 2, 3]]"
      ]
     },
     "execution_count": 138,
     "metadata": {},
     "output_type": "execute_result"
    }
   ],
   "source": [
    "def perms(n):\n",
    "    if n == 1:\n",
    "        return [[1]]\n",
    "    ps = []\n",
    "    for perm in perms(n - 1):\n",
    "        for i in range(n):\n",
    "            ps.append(perm[:i] + [n] + perm[i:])\n",
    "    return ps\n",
    "\n",
    "perms(3)"
   ]
  },
  {
   "cell_type": "code",
   "execution_count": 141,
   "metadata": {},
   "outputs": [
    {
     "name": "stdout",
     "output_type": "stream",
     "text": [
      "['()()()', '()(())', '(())()', '(()())', '((()))']\n"
     ]
    }
   ],
   "source": [
    "parens = {}\n",
    "parens[0] = [\"\"]\n",
    "\n",
    "n = 6\n",
    "\n",
    "for m in range(2, n + 1, 2):\n",
    "    ps = []\n",
    "    for i in range(0, m - 2 + 1, 2):\n",
    "        for p in parens[i]:\n",
    "            for q in parens[m - 2 - i]:\n",
    "                ps.append(\"\".join([\"(\", p, \")\", q]))\n",
    "    parens[m] = ps\n",
    "    \n",
    "print(parens[n])"
   ]
  },
  {
   "cell_type": "code",
   "execution_count": 147,
   "metadata": {},
   "outputs": [
    {
     "data": {
      "text/plain": [
       "5"
      ]
     },
     "execution_count": 147,
     "metadata": {},
     "output_type": "execute_result"
    }
   ],
   "source": [
    "# find x in xs sorted\n",
    "def sorted_search(xs, x, start, end):\n",
    "    # if we got down to two elements\n",
    "    if end - start < 2:\n",
    "        if x == xs[start]:\n",
    "            return start\n",
    "        if x == xs[end]:\n",
    "            return end\n",
    "        return None\n",
    "    \n",
    "    mid = (start + end) // 2\n",
    "    if x < xs[mid]:\n",
    "        return sorted_search(xs, x, start, mid - 1)\n",
    "    # otherwise: x >= xs[mid]\n",
    "    return sorted_search(xs, x, mid, end)\n",
    "        \n",
    "xs = [0,1,2,3,4,5,6,7,8,9]\n",
    "sorted_search(xs, 5, 0, 9)\n"
   ]
  },
  {
   "cell_type": "code",
   "execution_count": 149,
   "metadata": {},
   "outputs": [
    {
     "data": {
      "text/plain": [
       "(2, 5, 7)"
      ]
     },
     "execution_count": 149,
     "metadata": {},
     "output_type": "execute_result"
    }
   ],
   "source": [
    "def nearest_repeats(xs):\n",
    "    dict_last_seen = {}\n",
    "    min_seen = len(xs)\n",
    "    for i, x in enumerate(xs):\n",
    "        if x in dict_last_seen:\n",
    "            if i - dict_last_seen[x] < min_seen:\n",
    "                min_seen = i - dict_last_seen[x]\n",
    "                min_first = dict_last_seen[x]\n",
    "                min_second = i\n",
    "        dict_last_seen[x] = i\n",
    "    return (min_seen, min_first, min_second)\n",
    "\n",
    "xs = [1,2,3,4,2,1,3,1,3]\n",
    "nearest_repeats(xs)"
   ]
  },
  {
   "cell_type": "code",
   "execution_count": 172,
   "metadata": {},
   "outputs": [
    {
     "data": {
      "text/plain": [
       "23"
      ]
     },
     "execution_count": 172,
     "metadata": {},
     "output_type": "execute_result"
    }
   ],
   "source": [
    "def knapsack_fill(vals, knapsack_size):\n",
    "    M = len(vals)\n",
    "    B = [[0 for _ in range(knapsack_size + 1)] for _ in range(M)]\n",
    "\n",
    "    def safe_B(m, i):\n",
    "        if m < 0:\n",
    "            return 0\n",
    "        if i < 0:\n",
    "            return 0\n",
    "        return B[m][i]\n",
    "\n",
    "    for m in range(M):\n",
    "        for i in range(1,knapsack_size + 1):\n",
    "            B[m][i] = B[m][i - 1]\n",
    "            if m > 0:\n",
    "                B[m][i] = max(B[m][i], B[m - 1][i])\n",
    "            if i >= vals[m]:\n",
    "                B[m][i] = max(B[m][i], B[m - 1][i - vals[m]] + vals[m]) if m > 0 else vals[0]\n",
    "    return B[m][knapsack_size]\n",
    "\n",
    "vals = [10,5,6,7,4]\n",
    "knapsack_fill(vals, 24)"
   ]
  },
  {
   "cell_type": "code",
   "execution_count": 175,
   "metadata": {},
   "outputs": [
    {
     "data": {
      "text/plain": [
       "23"
      ]
     },
     "execution_count": 175,
     "metadata": {},
     "output_type": "execute_result"
    }
   ],
   "source": [
    "def rec_knapsack(xs, knapsize):\n",
    "    memoi = {}\n",
    "\n",
    "    def knap_rec(xs, starting_from, knapsize):\n",
    "        if starting_from >= len(xs):\n",
    "            return 0\n",
    "        if knapsize == 0:\n",
    "            return 0\n",
    "        if (starting_from, knapsize) in memoi:\n",
    "            return memoi[(starting_from, knapsize)]\n",
    "\n",
    "        b = 0\n",
    "        if xs[starting_from] <= knapsize:\n",
    "            b = knap_rec(xs, starting_from + 1, knapsize - xs[starting_from]) + xs[starting_from]\n",
    "        b = max(b, knap_rec(xs, starting_from + 1, knapsize))\n",
    "\n",
    "        if not (starting_from, knapsize) in memoi:\n",
    "            memoi[(starting_from, knapsize)] = b\n",
    "        return b\n",
    "\n",
    "    return knap_rec(xs, 0, knapsize)\t\n",
    "\n",
    "vals = [10,5,6,7,4]\n",
    "rec_knapsack(vals, 24)"
   ]
  },
  {
   "cell_type": "code",
   "execution_count": null,
   "metadata": {
    "collapsed": true
   },
   "outputs": [],
   "source": []
  }
 ],
 "metadata": {
  "kernelspec": {
   "display_name": "Python 2",
   "language": "python",
   "name": "python2"
  },
  "language_info": {
   "codemirror_mode": {
    "name": "ipython",
    "version": 2
   },
   "file_extension": ".py",
   "mimetype": "text/x-python",
   "name": "python",
   "nbconvert_exporter": "python",
   "pygments_lexer": "ipython2",
   "version": "2.7.14"
  }
 },
 "nbformat": 4,
 "nbformat_minor": 2
}
