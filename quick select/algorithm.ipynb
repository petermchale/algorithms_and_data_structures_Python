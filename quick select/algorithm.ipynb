{
 "cells": [
  {
   "cell_type": "markdown",
   "metadata": {},
   "source": [
    "### Naive implementation of Quick Select"
   ]
  },
  {
   "cell_type": "code",
   "execution_count": 1,
   "metadata": {},
   "outputs": [
    {
     "data": {
      "text/plain": [
       "([1, 3, 2], [4, 5, 6], 6)"
      ]
     },
     "execution_count": 1,
     "metadata": {},
     "output_type": "execute_result"
    }
   ],
   "source": [
    "def partition(p, l): \n",
    "    ll = []\n",
    "    lr = []\n",
    "    num_ops = 0\n",
    "    for e in l: \n",
    "        num_ops += 1\n",
    "        if e <= p: \n",
    "            ll += [e]\n",
    "        else: \n",
    "            lr += [e]\n",
    "    return ll, lr, num_ops\n",
    "\n",
    "partition(3, [1,4,3,2,5,6])"
   ]
  },
  {
   "cell_type": "code",
   "execution_count": 2,
   "metadata": {},
   "outputs": [
    {
     "name": "stdout",
     "output_type": "stream",
     "text": [
      "0 [] [1, 4, 3, 2, 5, 6, 9, 8, 7] 9\n",
      "1 [1] [4, 3, 2, 5, 6, 9, 8, 7] 9\n",
      "2 [2] [4, 3, 5, 6, 9, 8, 7] 8\n",
      "3 [3] [4, 5, 6, 9, 8, 7] 7\n",
      "4 [4] [5, 6, 9, 8, 7] 6\n"
     ]
    },
    {
     "data": {
      "text/plain": [
       "([4], 39)"
      ]
     },
     "execution_count": 2,
     "metadata": {},
     "output_type": "execute_result"
    }
   ],
   "source": [
    "def select(k, xs=[1,4,3,2,5,6,9,8,7], report=True):\n",
    "    k_smallest = []\n",
    "    total_num_ops = 0\n",
    "    for p in range(k):\n",
    "        xl, xr, num_ops = partition(p, xs)\n",
    "        if report:\n",
    "            print p, xl, xr, num_ops \n",
    "        xs = xr \n",
    "        total_num_ops += num_ops\n",
    "    return xl, total_num_ops\n",
    "\n",
    "select(5)"
   ]
  },
  {
   "cell_type": "code",
   "execution_count": 3,
   "metadata": {},
   "outputs": [
    {
     "data": {
      "text/plain": [
       "[<matplotlib.lines.Line2D at 0x112ff1190>]"
      ]
     },
     "execution_count": 3,
     "metadata": {},
     "output_type": "execute_result"
    },
    {
     "data": {
      "image/png": "[encoded data removed]",
      "text/plain": [
       "<matplotlib.figure.Figure at 0x10df35d10>"
      ]
     },
     "metadata": {},
     "output_type": "display_data"
    }
   ],
   "source": [
    "import numpy as np \n",
    "\n",
    "num_ops_list = []\n",
    "n_list = []\n",
    "for i, n in enumerate(range(10,100,10)): \n",
    "    _, num_ops = select(5, np.random.randint(n, size=n), report=False)\n",
    "    num_ops_list += [num_ops]    \n",
    "    n_list += [n]\n",
    "    \n",
    "import matplotlib.pyplot as plt \n",
    "%matplotlib inline \n",
    "plt.plot(n_list, num_ops_list, 's-')"
   ]
  },
  {
   "cell_type": "markdown",
   "metadata": {},
   "source": [
    "### More sophisticated implementation \n",
    "\n",
    "Here is the [Wikipedia version of QuickSelect](https://en.wikipedia.org/wiki/Quickselect):"
   ]
  },
  {
   "cell_type": "code",
   "execution_count": 4,
   "metadata": {},
   "outputs": [
    {
     "name": "stdout",
     "output_type": "stream",
     "text": [
      "[1, 4, 3, 2, 5, 6, 9, 8, 7]\n",
      "8\n",
      "[1, 4, 3, 2, 5, 6, 7, 8, 9]\n",
      "[1, 4, 3, 2, 5, 6, 7, 8, 9]\n",
      "3\n",
      "[1, 2, 3, 4, 5, 6, 7, 8, 9]\n",
      "[1, 2, 3, 4, 5, 6, 7, 8, 9]\n",
      "4\n",
      "[1, 2, 3, 4, 5, 6, 7, 8, 9]\n",
      "[1, 2, 3, 4, 5, 6, 7, 8, 9]\n",
      "6\n",
      "[1, 2, 3, 4, 5, 6, 7, 8, 9]\n"
     ]
    },
    {
     "data": {
      "text/plain": [
       "6"
      ]
     },
     "execution_count": 4,
     "metadata": {},
     "output_type": "execute_result"
    }
   ],
   "source": [
    "def swap_in_place(xs, i, j):\n",
    "    dum = xs[i]\n",
    "    xs[i] = xs[j]\n",
    "    xs[j] = dum\n",
    "    \n",
    "def partition_in_place(xs=[1,4,3,2,5,6,9,8,7], left=0, right=8):\n",
    "    print xs\n",
    "    pivotIndex = np.random.randint(left, right)\n",
    "    pivotValue = xs[pivotIndex]\n",
    "    print pivotValue\n",
    "    swap_in_place(xs, pivotIndex, right) # Move pivot to end\n",
    "    pivot_newIndex = left\n",
    "    for i in range(left,right):\n",
    "        if xs[i] < pivotValue:\n",
    "            swap_in_place(xs, pivot_newIndex, i)\n",
    "            pivot_newIndex += 1\n",
    "    swap_in_place(xs, right, pivot_newIndex) # Move pivot to its final place\n",
    "    print xs\n",
    "    return pivot_newIndex\n",
    "\n",
    "def select_in_place(k, xs=[1,4,3,2,5,6,9,8,7], left=0, right=8):\n",
    "    if left == right:\n",
    "        return xs[left]  \n",
    "    # Choosing a random element halves the problem at each step \n",
    "    # but only on average and only under the assumption that \n",
    "    # the elements are uniformly distributed: \n",
    "    pivotIndex = partition_in_place(xs, left, right)\n",
    "    # The pivot is now in its final sorted position\n",
    "    if k == pivotIndex:\n",
    "        return xs[k]\n",
    "    elif k < pivotIndex:\n",
    "        return select_in_place(k, xs, left, pivotIndex - 1)\n",
    "    else:\n",
    "        return select_in_place(k, xs, pivotIndex + 1, right)\n",
    "    \n",
    "select_in_place(5)"
   ]
  },
  {
   "cell_type": "code",
   "execution_count": 5,
   "metadata": {},
   "outputs": [
    {
     "name": "stdout",
     "output_type": "stream",
     "text": [
      "[1, 4, 3, 2, 5, 6, 9, 8, 7]\n",
      "6\n",
      "[1, 4, 3, 2, 5, 6, 9, 8, 7]\n"
     ]
    },
    {
     "data": {
      "text/plain": [
       "5"
      ]
     },
     "execution_count": 5,
     "metadata": {},
     "output_type": "execute_result"
    }
   ],
   "source": [
    "partition_in_place()"
   ]
  },
  {
   "cell_type": "markdown",
   "metadata": {
    "collapsed": true
   },
   "source": [
    "### Time complexity\n",
    "\n",
    "The number of comparisons to partition a list is equal to its length. Since partitioning is performed repeatedly on lists that shrink in size by a factor of two, the total time complexity for a list that is initially of size $n$ is the geometric series:\n",
    "\n",
    "$$ n + \\frac{n}{2} + \\frac{n}{2^2} + \\cdots + 1 = 2n - 1. $$"
   ]
  },
  {
   "cell_type": "code",
   "execution_count": null,
   "metadata": {
    "collapsed": true
   },
   "outputs": [],
   "source": []
  }
 ],
 "metadata": {
  "kernelspec": {
   "display_name": "Python 2",
   "language": "python",
   "name": "python2"
  },
  "language_info": {
   "codemirror_mode": {
    "name": "ipython",
    "version": 2
   },
   "file_extension": ".py",
   "mimetype": "text/x-python",
   "name": "python",
   "nbconvert_exporter": "python",
   "pygments_lexer": "ipython2",
   "version": "2.7.14"
  }
 },
 "nbformat": 4,
 "nbformat_minor": 2
}
