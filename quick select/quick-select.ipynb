{
 "cells": [
  {
   "cell_type": "code",
   "execution_count": 1,
   "metadata": {},
   "outputs": [
    {
     "data": {
      "text/plain": [
       "([1, 3, 2], [4, 5, 6], 6)"
      ]
     },
     "execution_count": 1,
     "metadata": {},
     "output_type": "execute_result"
    }
   ],
   "source": [
    "# partition using auxillary lists: \n",
    "def partition(p, l): \n",
    "    ll = []\n",
    "    lr = []\n",
    "    num_ops = 0\n",
    "    for e in l: \n",
    "        num_ops += 1\n",
    "        if e <= p: \n",
    "            ll += [e]\n",
    "        else: \n",
    "            lr += [e]\n",
    "    return ll, lr, num_ops\n",
    "\n",
    "partition(3, [1,4,3,2,5,6])"
   ]
  },
  {
   "cell_type": "code",
   "execution_count": 6,
   "metadata": {},
   "outputs": [
    {
     "name": "stdout",
     "output_type": "stream",
     "text": [
      "[1, 4, 3, 2, 5, 6, 9, 8, 7]\n",
      "4\n",
      "[1, 3, 2, 4, 5, 6, 9, 8, 7]\n"
     ]
    },
    {
     "data": {
      "text/plain": [
       "3"
      ]
     },
     "execution_count": 6,
     "metadata": {},
     "output_type": "execute_result"
    }
   ],
   "source": [
    "# partition in place: \n",
    "\n",
    "import numpy as np \n",
    "\n",
    "def swap_in_place(xs, i, j):\n",
    "    dum = xs[i]\n",
    "    xs[i] = xs[j]\n",
    "    xs[j] = dum\n",
    "    \n",
    "def partition_in_place(xs=[1,4,3,2,5,6,9,8,7], left=0, right=8):\n",
    "    print(xs)\n",
    "    pivotIndex = np.random.randint(left, right)\n",
    "    pivotValue = xs[pivotIndex]\n",
    "    print(pivotValue)\n",
    "    swap_in_place(xs, pivotIndex, right) # Move pivot to end\n",
    "    pivot_newIndex = left\n",
    "    for i in range(left,right):\n",
    "        if xs[i] < pivotValue:\n",
    "            swap_in_place(xs, pivot_newIndex, i)\n",
    "            pivot_newIndex += 1\n",
    "    swap_in_place(xs, right, pivot_newIndex) # Move pivot to its final place\n",
    "    print(xs)\n",
    "    return pivot_newIndex\n",
    "\n",
    "partition_in_place()"
   ]
  },
  {
   "cell_type": "markdown",
   "metadata": {},
   "source": [
    "Here is the [Wikipedia version of QuickSelect](https://en.wikipedia.org/wiki/Quickselect):"
   ]
  },
  {
   "cell_type": "code",
   "execution_count": 7,
   "metadata": {},
   "outputs": [
    {
     "name": "stdout",
     "output_type": "stream",
     "text": [
      "[1, 4, 3, 2, 5, 6, 9, 8, 7]\n",
      "3\n",
      "[1, 2, 3, 4, 5, 6, 9, 8, 7]\n",
      "[1, 2, 3, 4, 5, 6, 9, 8, 7]\n",
      "8\n",
      "[1, 2, 3, 4, 5, 6, 7, 8, 9]\n",
      "[1, 2, 3, 4, 5, 6, 7, 8, 9]\n",
      "6\n",
      "[1, 2, 3, 4, 5, 6, 7, 8, 9]\n"
     ]
    },
    {
     "data": {
      "text/plain": [
       "6"
      ]
     },
     "execution_count": 7,
     "metadata": {},
     "output_type": "execute_result"
    }
   ],
   "source": [
    "def select_in_place(k, xs=[1,4,3,2,5,6,9,8,7], left=0, right=8):\n",
    "    if left == right:\n",
    "        return xs[left]  \n",
    "    # Choosing a random element halves the problem at each step \n",
    "    # but only on average and only under the assumption that \n",
    "    # the elements are uniformly distributed: \n",
    "    pivotIndex = partition_in_place(xs, left, right)\n",
    "    # The pivot is now in its final sorted position\n",
    "    if k == pivotIndex:\n",
    "        return xs[k]\n",
    "    elif k < pivotIndex:\n",
    "        return select_in_place(k, xs, left, pivotIndex - 1)\n",
    "    else:\n",
    "        return select_in_place(k, xs, pivotIndex + 1, right)\n",
    "    \n",
    "select_in_place(5)"
   ]
  },
  {
   "cell_type": "markdown",
   "metadata": {
    "collapsed": true
   },
   "source": [
    "### Time complexity\n",
    "\n",
    "The number of comparisons to partition a list is equal to its length. Since partitioning is performed repeatedly on lists that shrink in size by a factor of two, the total time complexity for a list that is initially of size $n$ is the geometric series:\n",
    "\n",
    "$$ n + \\frac{n}{2} + \\frac{n}{2^2} + \\cdots + 1 = 2n - 1. $$"
   ]
  },
  {
   "cell_type": "markdown",
   "metadata": {
    "collapsed": true
   },
   "source": [
    "In contrast, the time complexity of quicksort is $nlog(n)$: even though there are $log(n)$ recursive steps in both algorithms, the amount of work to partition is the same at each recursive level in the quicksort algorithm."
   ]
  },
  {
   "cell_type": "markdown",
   "metadata": {},
   "source": [
    "More discussion here: https://stackoverflow.com/questions/8783408/why-is-the-runtime-of-the-selection-algorithm-on"
   ]
  },
  {
   "cell_type": "code",
   "execution_count": null,
   "metadata": {},
   "outputs": [],
   "source": []
  }
 ],
 "metadata": {
  "kernelspec": {
   "display_name": "Python 3 (ipykernel)",
   "language": "python",
   "name": "python3"
  },
  "language_info": {
   "codemirror_mode": {
    "name": "ipython",
    "version": 3
   },
   "file_extension": ".py",
   "mimetype": "text/x-python",
   "name": "python",
   "nbconvert_exporter": "python",
   "pygments_lexer": "ipython3",
   "version": "3.9.7"
  }
 },
 "nbformat": 4,
 "nbformat_minor": 2
}
