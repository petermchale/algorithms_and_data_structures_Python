{
 "cells": [
  {
   "cell_type": "markdown",
   "metadata": {},
   "source": [
    "My naive implementation of Quick Select:"
   ]
  },
  {
   "cell_type": "code",
   "execution_count": 1,
   "metadata": {},
   "outputs": [
    {
     "data": {
      "text/plain": [
       "([1, 3, 2], [4, 5, 6], 6)"
      ]
     },
     "execution_count": 1,
     "metadata": {},
     "output_type": "execute_result"
    }
   ],
   "source": [
    "def partition(p, l): \n",
    "    ll = []\n",
    "    lr = []\n",
    "    num_ops = 0\n",
    "    for e in l: \n",
    "        num_ops += 1\n",
    "        if e <= p: \n",
    "            ll += [e]\n",
    "        else: \n",
    "            lr += [e]\n",
    "    return ll, lr, num_ops\n",
    "\n",
    "partition(3, [1,4,3,2,5,6])"
   ]
  },
  {
   "cell_type": "code",
   "execution_count": 2,
   "metadata": {},
   "outputs": [
    {
     "name": "stdout",
     "output_type": "stream",
     "text": [
      "0 [] [1, 4, 3, 2, 5, 6, 9, 8, 7] 9\n",
      "1 [1] [4, 3, 2, 5, 6, 9, 8, 7] 9\n",
      "2 [2] [4, 3, 5, 6, 9, 8, 7] 8\n",
      "3 [3] [4, 5, 6, 9, 8, 7] 7\n",
      "4 [4] [5, 6, 9, 8, 7] 6\n"
     ]
    },
    {
     "data": {
      "text/plain": [
       "([4], 39)"
      ]
     },
     "execution_count": 2,
     "metadata": {},
     "output_type": "execute_result"
    }
   ],
   "source": [
    "def select(k, xs=[1,4,3,2,5,6,9,8,7]):\n",
    "    k_smallest = []\n",
    "    total_num_ops = 0\n",
    "    for p in range(k):\n",
    "        xl, xr, num_ops = partition(p, xs)\n",
    "        print p, xl, xr, num_ops \n",
    "        xs = xr \n",
    "        total_num_ops += num_ops\n",
    "    return xl, total_num_ops\n",
    "\n",
    "select(5)"
   ]
  },
  {
   "cell_type": "code",
   "execution_count": 3,
   "metadata": {},
   "outputs": [
    {
     "name": "stdout",
     "output_type": "stream",
     "text": [
      "0 [0] [9, 5, 6, 5, 5, 2, 4, 5, 8] 10\n",
      "1 [] [9, 5, 6, 5, 5, 2, 4, 5, 8] 9\n",
      "2 [2] [9, 5, 6, 5, 5, 4, 5, 8] 9\n",
      "3 [] [9, 5, 6, 5, 5, 4, 5, 8] 8\n",
      "4 [4] [9, 5, 6, 5, 5, 5, 8] 8\n",
      "0 [0] [12, 11, 5, 15, 4, 15, 2, 17, 13, 8, 11, 6, 2, 5, 7, 15, 12, 9, 4] 20\n",
      "1 [] [12, 11, 5, 15, 4, 15, 2, 17, 13, 8, 11, 6, 2, 5, 7, 15, 12, 9, 4] 19\n",
      "2 [2, 2] [12, 11, 5, 15, 4, 15, 17, 13, 8, 11, 6, 5, 7, 15, 12, 9, 4] 19\n",
      "3 [] [12, 11, 5, 15, 4, 15, 17, 13, 8, 11, 6, 5, 7, 15, 12, 9, 4] 17\n",
      "4 [4, 4] [12, 11, 5, 15, 15, 17, 13, 8, 11, 6, 5, 7, 15, 12, 9] 17\n",
      "0 [] [29, 11, 2, 26, 5, 21, 28, 9, 25, 25, 29, 22, 18, 27, 15, 12, 9, 15, 12, 27, 12, 3, 12, 10, 3, 27, 18, 23, 18, 4] 30\n",
      "1 [] [29, 11, 2, 26, 5, 21, 28, 9, 25, 25, 29, 22, 18, 27, 15, 12, 9, 15, 12, 27, 12, 3, 12, 10, 3, 27, 18, 23, 18, 4] 30\n",
      "2 [2] [29, 11, 26, 5, 21, 28, 9, 25, 25, 29, 22, 18, 27, 15, 12, 9, 15, 12, 27, 12, 3, 12, 10, 3, 27, 18, 23, 18, 4] 30\n",
      "3 [3, 3] [29, 11, 26, 5, 21, 28, 9, 25, 25, 29, 22, 18, 27, 15, 12, 9, 15, 12, 27, 12, 12, 10, 27, 18, 23, 18, 4] 29\n",
      "4 [4] [29, 11, 26, 5, 21, 28, 9, 25, 25, 29, 22, 18, 27, 15, 12, 9, 15, 12, 27, 12, 12, 10, 27, 18, 23, 18] 27\n",
      "0 [0, 0, 0, 0] [24, 18, 6, 9, 8, 28, 30, 12, 12, 28, 25, 11, 7, 31, 28, 10, 17, 27, 24, 22, 38, 7, 7, 33, 9, 33, 13, 23, 28, 9, 16, 7, 1, 24, 3, 4] 40\n",
      "1 [1] [24, 18, 6, 9, 8, 28, 30, 12, 12, 28, 25, 11, 7, 31, 28, 10, 17, 27, 24, 22, 38, 7, 7, 33, 9, 33, 13, 23, 28, 9, 16, 7, 24, 3, 4] 36\n",
      "2 [] [24, 18, 6, 9, 8, 28, 30, 12, 12, 28, 25, 11, 7, 31, 28, 10, 17, 27, 24, 22, 38, 7, 7, 33, 9, 33, 13, 23, 28, 9, 16, 7, 24, 3, 4] 35\n",
      "3 [3] [24, 18, 6, 9, 8, 28, 30, 12, 12, 28, 25, 11, 7, 31, 28, 10, 17, 27, 24, 22, 38, 7, 7, 33, 9, 33, 13, 23, 28, 9, 16, 7, 24, 4] 35\n",
      "4 [4] [24, 18, 6, 9, 8, 28, 30, 12, 12, 28, 25, 11, 7, 31, 28, 10, 17, 27, 24, 22, 38, 7, 7, 33, 9, 33, 13, 23, 28, 9, 16, 7, 24] 34\n",
      "0 [0] [42, 25, 46, 30, 8, 37, 48, 41, 19, 38, 14, 13, 26, 26, 8, 47, 43, 19, 17, 18, 1, 19, 49, 39, 4, 9, 10, 38, 24, 33, 14, 45, 21, 47, 33, 39, 26, 14, 32, 21, 40, 21, 43, 27, 22, 49, 26, 25, 32] 50\n",
      "1 [1] [42, 25, 46, 30, 8, 37, 48, 41, 19, 38, 14, 13, 26, 26, 8, 47, 43, 19, 17, 18, 19, 49, 39, 4, 9, 10, 38, 24, 33, 14, 45, 21, 47, 33, 39, 26, 14, 32, 21, 40, 21, 43, 27, 22, 49, 26, 25, 32] 49\n",
      "2 [] [42, 25, 46, 30, 8, 37, 48, 41, 19, 38, 14, 13, 26, 26, 8, 47, 43, 19, 17, 18, 19, 49, 39, 4, 9, 10, 38, 24, 33, 14, 45, 21, 47, 33, 39, 26, 14, 32, 21, 40, 21, 43, 27, 22, 49, 26, 25, 32] 48\n",
      "3 [] [42, 25, 46, 30, 8, 37, 48, 41, 19, 38, 14, 13, 26, 26, 8, 47, 43, 19, 17, 18, 19, 49, 39, 4, 9, 10, 38, 24, 33, 14, 45, 21, 47, 33, 39, 26, 14, 32, 21, 40, 21, 43, 27, 22, 49, 26, 25, 32] 48\n",
      "4 [4] [42, 25, 46, 30, 8, 37, 48, 41, 19, 38, 14, 13, 26, 26, 8, 47, 43, 19, 17, 18, 19, 49, 39, 9, 10, 38, 24, 33, 14, 45, 21, 47, 33, 39, 26, 14, 32, 21, 40, 21, 43, 27, 22, 49, 26, 25, 32] 48\n",
      "0 [0, 0, 0] [36, 32, 24, 7, 30, 49, 34, 17, 21, 47, 43, 51, 36, 55, 39, 18, 22, 18, 49, 22, 47, 16, 46, 54, 5, 20, 8, 46, 44, 28, 28, 44, 39, 56, 53, 41, 57, 55, 37, 48, 31, 57, 44, 5, 44, 24, 21, 27, 5, 42, 3, 39, 16, 6, 47, 48, 45] 60\n",
      "1 [] [36, 32, 24, 7, 30, 49, 34, 17, 21, 47, 43, 51, 36, 55, 39, 18, 22, 18, 49, 22, 47, 16, 46, 54, 5, 20, 8, 46, 44, 28, 28, 44, 39, 56, 53, 41, 57, 55, 37, 48, 31, 57, 44, 5, 44, 24, 21, 27, 5, 42, 3, 39, 16, 6, 47, 48, 45] 57\n",
      "2 [] [36, 32, 24, 7, 30, 49, 34, 17, 21, 47, 43, 51, 36, 55, 39, 18, 22, 18, 49, 22, 47, 16, 46, 54, 5, 20, 8, 46, 44, 28, 28, 44, 39, 56, 53, 41, 57, 55, 37, 48, 31, 57, 44, 5, 44, 24, 21, 27, 5, 42, 3, 39, 16, 6, 47, 48, 45] 57\n",
      "3 [3] [36, 32, 24, 7, 30, 49, 34, 17, 21, 47, 43, 51, 36, 55, 39, 18, 22, 18, 49, 22, 47, 16, 46, 54, 5, 20, 8, 46, 44, 28, 28, 44, 39, 56, 53, 41, 57, 55, 37, 48, 31, 57, 44, 5, 44, 24, 21, 27, 5, 42, 39, 16, 6, 47, 48, 45] 57\n",
      "4 [] [36, 32, 24, 7, 30, 49, 34, 17, 21, 47, 43, 51, 36, 55, 39, 18, 22, 18, 49, 22, 47, 16, 46, 54, 5, 20, 8, 46, 44, 28, 28, 44, 39, 56, 53, 41, 57, 55, 37, 48, 31, 57, 44, 5, 44, 24, 21, 27, 5, 42, 39, 16, 6, 47, 48, 45] 56\n",
      "0 [0, 0, 0] [62, 13, 59, 39, 11, 16, 29, 52, 7, 19, 55, 24, 25, 50, 44, 29, 55, 65, 21, 14, 67, 45, 37, 7, 23, 3, 48, 16, 5, 28, 17, 39, 25, 46, 52, 44, 18, 5, 62, 32, 62, 62, 53, 23, 17, 24, 30, 52, 15, 7, 53, 3, 14, 69, 13, 61, 23, 58, 19, 38, 9, 39, 29, 64, 41, 40, 22] 70\n",
      "1 [] [62, 13, 59, 39, 11, 16, 29, 52, 7, 19, 55, 24, 25, 50, 44, 29, 55, 65, 21, 14, 67, 45, 37, 7, 23, 3, 48, 16, 5, 28, 17, 39, 25, 46, 52, 44, 18, 5, 62, 32, 62, 62, 53, 23, 17, 24, 30, 52, 15, 7, 53, 3, 14, 69, 13, 61, 23, 58, 19, 38, 9, 39, 29, 64, 41, 40, 22] 67\n",
      "2 [] [62, 13, 59, 39, 11, 16, 29, 52, 7, 19, 55, 24, 25, 50, 44, 29, 55, 65, 21, 14, 67, 45, 37, 7, 23, 3, 48, 16, 5, 28, 17, 39, 25, 46, 52, 44, 18, 5, 62, 32, 62, 62, 53, 23, 17, 24, 30, 52, 15, 7, 53, 3, 14, 69, 13, 61, 23, 58, 19, 38, 9, 39, 29, 64, 41, 40, 22] 67\n",
      "3 [3, 3] [62, 13, 59, 39, 11, 16, 29, 52, 7, 19, 55, 24, 25, 50, 44, 29, 55, 65, 21, 14, 67, 45, 37, 7, 23, 48, 16, 5, 28, 17, 39, 25, 46, 52, 44, 18, 5, 62, 32, 62, 62, 53, 23, 17, 24, 30, 52, 15, 7, 53, 14, 69, 13, 61, 23, 58, 19, 38, 9, 39, 29, 64, 41, 40, 22] 67\n",
      "4 [] [62, 13, 59, 39, 11, 16, 29, 52, 7, 19, 55, 24, 25, 50, 44, 29, 55, 65, 21, 14, 67, 45, 37, 7, 23, 48, 16, 5, 28, 17, 39, 25, 46, 52, 44, 18, 5, 62, 32, 62, 62, 53, 23, 17, 24, 30, 52, 15, 7, 53, 14, 69, 13, 61, 23, 58, 19, 38, 9, 39, 29, 64, 41, 40, 22] 65\n",
      "0 [] [40, 7, 76, 64, 78, 25, 2, 19, 40, 11, 36, 61, 71, 8, 35, 52, 54, 1, 58, 42, 49, 9, 61, 28, 72, 30, 40, 36, 17, 12, 79, 22, 36, 53, 28, 43, 53, 47, 25, 74, 47, 14, 74, 60, 68, 3, 19, 1, 14, 43, 39, 40, 61, 30, 14, 39, 23, 10, 45, 37, 64, 10, 55, 11, 4, 15, 77, 25, 2, 70, 30, 61, 24, 79, 33, 24, 62, 15, 1, 63] 80\n",
      "1 [1, 1, 1] [40, 7, 76, 64, 78, 25, 2, 19, 40, 11, 36, 61, 71, 8, 35, 52, 54, 58, 42, 49, 9, 61, 28, 72, 30, 40, 36, 17, 12, 79, 22, 36, 53, 28, 43, 53, 47, 25, 74, 47, 14, 74, 60, 68, 3, 19, 14, 43, 39, 40, 61, 30, 14, 39, 23, 10, 45, 37, 64, 10, 55, 11, 4, 15, 77, 25, 2, 70, 30, 61, 24, 79, 33, 24, 62, 15, 63] 80\n",
      "2 [2, 2] [40, 7, 76, 64, 78, 25, 19, 40, 11, 36, 61, 71, 8, 35, 52, 54, 58, 42, 49, 9, 61, 28, 72, 30, 40, 36, 17, 12, 79, 22, 36, 53, 28, 43, 53, 47, 25, 74, 47, 14, 74, 60, 68, 3, 19, 14, 43, 39, 40, 61, 30, 14, 39, 23, 10, 45, 37, 64, 10, 55, 11, 4, 15, 77, 25, 70, 30, 61, 24, 79, 33, 24, 62, 15, 63] 77\n",
      "3 [3] [40, 7, 76, 64, 78, 25, 19, 40, 11, 36, 61, 71, 8, 35, 52, 54, 58, 42, 49, 9, 61, 28, 72, 30, 40, 36, 17, 12, 79, 22, 36, 53, 28, 43, 53, 47, 25, 74, 47, 14, 74, 60, 68, 19, 14, 43, 39, 40, 61, 30, 14, 39, 23, 10, 45, 37, 64, 10, 55, 11, 4, 15, 77, 25, 70, 30, 61, 24, 79, 33, 24, 62, 15, 63] 75\n",
      "4 [4] [40, 7, 76, 64, 78, 25, 19, 40, 11, 36, 61, 71, 8, 35, 52, 54, 58, 42, 49, 9, 61, 28, 72, 30, 40, 36, 17, 12, 79, 22, 36, 53, 28, 43, 53, 47, 25, 74, 47, 14, 74, 60, 68, 19, 14, 43, 39, 40, 61, 30, 14, 39, 23, 10, 45, 37, 64, 10, 55, 11, 15, 77, 25, 70, 30, 61, 24, 79, 33, 24, 62, 15, 63] 74\n",
      "0 [0] [65, 52, 21, 21, 43, 66, 15, 71, 67, 49, 29, 2, 55, 1, 30, 38, 81, 12, 12, 39, 16, 12, 24, 70, 20, 71, 64, 55, 22, 82, 4, 83, 78, 22, 16, 10, 60, 31, 24, 12, 16, 74, 8, 35, 51, 45, 75, 37, 57, 71, 30, 66, 82, 68, 85, 15, 74, 51, 47, 5, 34, 52, 58, 67, 81, 46, 69, 66, 30, 64, 55, 20, 55, 16, 45, 48, 80, 57, 45, 80, 35, 66, 45, 39, 36, 73, 32, 25, 36] 90\n",
      "1 [1] [65, 52, 21, 21, 43, 66, 15, 71, 67, 49, 29, 2, 55, 30, 38, 81, 12, 12, 39, 16, 12, 24, 70, 20, 71, 64, 55, 22, 82, 4, 83, 78, 22, 16, 10, 60, 31, 24, 12, 16, 74, 8, 35, 51, 45, 75, 37, 57, 71, 30, 66, 82, 68, 85, 15, 74, 51, 47, 5, 34, 52, 58, 67, 81, 46, 69, 66, 30, 64, 55, 20, 55, 16, 45, 48, 80, 57, 45, 80, 35, 66, 45, 39, 36, 73, 32, 25, 36] 89\n",
      "2 [2] [65, 52, 21, 21, 43, 66, 15, 71, 67, 49, 29, 55, 30, 38, 81, 12, 12, 39, 16, 12, 24, 70, 20, 71, 64, 55, 22, 82, 4, 83, 78, 22, 16, 10, 60, 31, 24, 12, 16, 74, 8, 35, 51, 45, 75, 37, 57, 71, 30, 66, 82, 68, 85, 15, 74, 51, 47, 5, 34, 52, 58, 67, 81, 46, 69, 66, 30, 64, 55, 20, 55, 16, 45, 48, 80, 57, 45, 80, 35, 66, 45, 39, 36, 73, 32, 25, 36] 88\n",
      "3 [] [65, 52, 21, 21, 43, 66, 15, 71, 67, 49, 29, 55, 30, 38, 81, 12, 12, 39, 16, 12, 24, 70, 20, 71, 64, 55, 22, 82, 4, 83, 78, 22, 16, 10, 60, 31, 24, 12, 16, 74, 8, 35, 51, 45, 75, 37, 57, 71, 30, 66, 82, 68, 85, 15, 74, 51, 47, 5, 34, 52, 58, 67, 81, 46, 69, 66, 30, 64, 55, 20, 55, 16, 45, 48, 80, 57, 45, 80, 35, 66, 45, 39, 36, 73, 32, 25, 36] 87\n",
      "4 [4] [65, 52, 21, 21, 43, 66, 15, 71, 67, 49, 29, 55, 30, 38, 81, 12, 12, 39, 16, 12, 24, 70, 20, 71, 64, 55, 22, 82, 83, 78, 22, 16, 10, 60, 31, 24, 12, 16, 74, 8, 35, 51, 45, 75, 37, 57, 71, 30, 66, 82, 68, 85, 15, 74, 51, 47, 5, 34, 52, 58, 67, 81, 46, 69, 66, 30, 64, 55, 20, 55, 16, 45, 48, 80, 57, 45, 80, 35, 66, 45, 39, 36, 73, 32, 25, 36] 87\n"
     ]
    },
    {
     "data": {
      "text/plain": [
       "[<matplotlib.lines.Line2D at 0x113f28150>]"
      ]
     },
     "execution_count": 3,
     "metadata": {},
     "output_type": "execute_result"
    },
    {
     "data": {
      "image/png": "[encoded data removed]",
      "text/plain": [
       "<matplotlib.figure.Figure at 0x113ca5c90>"
      ]
     },
     "metadata": {},
     "output_type": "display_data"
    }
   ],
   "source": [
    "import numpy as np \n",
    "\n",
    "num_ops_list = []\n",
    "n_list = []\n",
    "for i, n in enumerate(range(10,100,10)): \n",
    "    _, num_ops = select(5, np.random.randint(n, size=n))\n",
    "    num_ops_list += [num_ops]    \n",
    "    n_list += [n]\n",
    "    \n",
    "import matplotlib.pyplot as plt \n",
    "%matplotlib inline \n",
    "plt.plot(n_list, num_ops_list, 's-')"
   ]
  },
  {
   "cell_type": "markdown",
   "metadata": {},
   "source": [
    "Here is the [Wikipedia version of QuickSelect](https://en.wikipedia.org/wiki/Quickselect):"
   ]
  },
  {
   "cell_type": "code",
   "execution_count": 6,
   "metadata": {},
   "outputs": [
    {
     "name": "stdout",
     "output_type": "stream",
     "text": [
      "[1, 4, 3, 2, 5, 6, 9, 8, 7]\n",
      "[1, 4, 3, 2, 5, 6, 9, 8, 7]\n"
     ]
    },
    {
     "data": {
      "text/plain": [
       "6"
      ]
     },
     "execution_count": 6,
     "metadata": {},
     "output_type": "execute_result"
    }
   ],
   "source": [
    "def swap_in_place(xs, i, j):\n",
    "    dum = xs[i]\n",
    "    xs[i] = xs[j]\n",
    "    xs[j] = dum\n",
    "    \n",
    "def partition_in_place(xs=[1,4,3,2,5,6,9,8,7], left=0, right=8):\n",
    "    pivotIndex = np.random.randint(left, right)\n",
    "    pivotValue = xs[pivotIndex]\n",
    "    print pivotValue\n",
    "    swap_in_place(xs, pivotIndex, right) # Move pivot to end\n",
    "    pivot_newIndex = left\n",
    "    for i in range(left,right):\n",
    "        if xs[i] < pivotValue:\n",
    "            swap_in_place(xs, pivot_newIndex, i)\n",
    "            pivot_newIndex += 1\n",
    "    swap_in_place(xs, right, pivot_newIndex) # Move pivot to its final place\n",
    "    print xs\n",
    "    return pivot_newIndex\n",
    "\n",
    "def select_in_place(k, xs=[1,4,3,2,5,6,9,8,7], left=0, right=8):\n",
    "    if left == right:\n",
    "        return xs[left]  \n",
    "    # Choosing a random element halves the problem at each step \n",
    "    # but only on average and only under the assumption that \n",
    "    # the elements are uniformly distributed: \n",
    "    pivotIndex = partition_in_place(xs, left, right)\n",
    "    # The pivot is now in its final sorted position\n",
    "    if k == pivotIndex:\n",
    "        return xs[k]\n",
    "    elif k < pivotIndex:\n",
    "        return select_in_place(k, xs, left, pivotIndex - 1)\n",
    "    else:\n",
    "        return select_in_place(k, xs, pivotIndex + 1, right)\n",
    "    \n",
    "select_in_place(5)"
   ]
  },
  {
   "cell_type": "code",
   "execution_count": 9,
   "metadata": {},
   "outputs": [
    {
     "name": "stdout",
     "output_type": "stream",
     "text": [
      "[1, 3, 2, 4, 5, 6, 9, 8, 7]\n"
     ]
    },
    {
     "data": {
      "text/plain": [
       "3"
      ]
     },
     "execution_count": 9,
     "metadata": {},
     "output_type": "execute_result"
    }
   ],
   "source": [
    "partition_in_place()"
   ]
  },
  {
   "cell_type": "code",
   "execution_count": null,
   "metadata": {
    "collapsed": true
   },
   "outputs": [],
   "source": []
  }
 ],
 "metadata": {
  "kernelspec": {
   "display_name": "Python 2",
   "language": "python",
   "name": "python2"
  },
  "language_info": {
   "codemirror_mode": {
    "name": "ipython",
    "version": 2
   },
   "file_extension": ".py",
   "mimetype": "text/x-python",
   "name": "python",
   "nbconvert_exporter": "python",
   "pygments_lexer": "ipython2",
   "version": "2.7.14"
  }
 },
 "nbformat": 4,
 "nbformat_minor": 2
}
